{
 "cells": [
  {
   "cell_type": "markdown",
   "metadata": {},
   "source": [
    "adies and gentlemen, welcome aboard AI Airline!\n",
    "\n",
    " Please fasten your seatbelts before reading the code.\n",
    "\n",
    " To prepare for what you're about to experience, we invite you to find a moment of quiet and focus. The code you're about to see is truly mind-blowing!"
   ]
  },
  {
   "cell_type": "markdown",
   "metadata": {},
   "source": [
    "**Question 2**\n",
    "\n",
    "**Section a**"
   ]
  },
  {
   "cell_type": "markdown",
   "metadata": {},
   "source": [
    "For training a neural network model, a crucial aspect is deciding on a validation strategy that effectively assesses the model's performance while ensuring generalization to unseen data. Given the nature of the data and the insights gained from its curation and partitioning, a time-based separation strategy combined with stratification emerges as an elegant choice.\n",
    "\n",
    "The data, comprising nearly 50,248 files, exhibits characteristics of time series data, where temporal relationships play a significant role. As such, preserving the temporal order of observations is paramount to effectively train and validate the model. The data is partitioned into files, each containing sequential observations over time.\n",
    "\n",
    "The time-based separation strategy involves allocating 80% of the files for training and 20% for validation (changable), while maintaining the temporal sequence of observations within each file. This approach ensures that the model learns from past observations during training and generalizes to future ones during validation, mirroring real-world scenarios where predictions are made based on historical data.\n",
    "\n",
    "Moreover, incorporating stratification into the validation process helps address class imbalances within the data (Remember that the data wasn't fully homogeneous as explained in data_analysis file). By ensuring that both the training and validation sets maintain proportional representation of each class, stratification enhances the robustness and reliability of the model's performance evaluation.\n",
    "\n",
    "In conclusion, leveraging a time-based separation strategy with stratification for validation aligns well with the characteristics of the data and the objectives of the modeling task. This approach not only preserves temporal relationships but also addresses class imbalances, ultimately leading to a more robust and accurate neural network model.\n",
    "\n",
    "Another important consideration, When partitioning the data into training and validation sets, the goal is to maintain the proportion of type 1 and type 2 files in both sets. This ensures that the model is trained and evaluated on a representative sample of each file type, preventing biases that may arise from unequal distribution.\n",
    "\n",
    "For example, 80% of type 1 files and 80% of type 2 files should be allocated to the training set, while the remaining 20% of each file type should be allocated to the validation set. This maintains the relative proportions of type 1 and type 2 files in both sets, enabling fair evaluation of the model's performance across different file types. (I might consider also 80% for each activity...)."
   ]
  },
  {
   "cell_type": "code",
   "execution_count": 20,
   "metadata": {},
   "outputs": [],
   "source": [
    "import pandas as pd\n",
    "import matplotlib.pyplot as plt\n",
    "import numpy as np\n",
    "import os\n",
    "from sklearn.model_selection import train_test_split\n",
    "from sklearn.metrics import accuracy_score\n",
    "from sklearn.ensemble import RandomForestClassifier\n",
    "import random\n",
    "\n",
    "import torch\n",
    "import torch.nn as nn\n",
    "import torch.nn.functional as F\n",
    "from torch.nn import LSTM, Linear, Dropout, BatchNorm1d\n",
    "from torch.optim.lr_scheduler import ReduceLROnPlateau\n",
    "import torch.optim as optim\n",
    "import pytorch_lightning as pl\n",
    "from pytorch_lightning import LightningModule, Trainer, Callback\n",
    "from torch.utils.data import DataLoader, TensorDataset, Dataset\n",
    "from torch.nn.utils.rnn import pad_sequence\n",
    "from sklearn.preprocessing import LabelEncoder\n",
    "from sklearn.model_selection import train_test_split\n",
    "from sklearn.preprocessing import LabelEncoder\n",
    "from sklearn.preprocessing import StandardScaler\n",
    "\n",
    "from torchmetrics import Accuracy\n",
    "\n",
    "from scipy.stats import skew, kurtosis, entropy\n",
    "from scipy.signal import welch"
   ]
  },
  {
   "cell_type": "code",
   "execution_count": 56,
   "metadata": {},
   "outputs": [],
   "source": [
    "# # Change csv file path if needed\n",
    "# train_data = pd.read_csv('/Users/john-zaatri/Desktop/semester 7/סדנה מעשית בלמידה עמוקה/תרגילים/תרגיל 2/bgu-i-know-what-you-did-last-measurement-time/train.csv')\n",
    "\n",
    "# # Path to the folder containing unlabeled data\n",
    "# unlabeled_folder_path = '/Users/john-zaatri/Desktop/semester 7/סדנה מעשית בלמידה עמוקה/תרגילים/תרגיל 2/bgu-i-know-what-you-did-last-measurement-time/unlabeled/unlabeled/'\n",
    "\n",
    "# Change csv file path if needed\n",
    "train_data = pd.read_csv('/home/janz/model/data/train.csv')\n",
    "\n",
    "# Path to the folder containing unlabeled data\n",
    "unlabeled_folder_path = '/home/janz/model/data/unlabeled/unlabeled/'\n",
    "\n",
    "# Dictionary to store DataFrames and additional information\n",
    "data = {}\n",
    "\n",
    "# Iterate through each row in train.csv\n",
    "for index, row in train_data.iterrows():\n",
    "    id_ = row['id']\n",
    "    csv_filename = os.path.join(unlabeled_folder_path, f\"{id_}.csv\")\n",
    "    df = pd.read_csv(csv_filename)\n",
    "    userid = row['userid']\n",
    "    sensor = row['sensor']\n",
    "    body_part = row['body_part']\n",
    "    side = row['side']\n",
    "    sequence_length = row['sequence_length']\n",
    "    activity = row['activity']\n",
    "    data[id_] = {\n",
    "        'dataframe': df,\n",
    "        'userid': userid,\n",
    "        'sensor': sensor,\n",
    "        'body_part': body_part,\n",
    "        'side': side,\n",
    "        'sequence_length': sequence_length,\n",
    "        'activity': activity\n",
    "    }\n",
    "# basically data is a dict, were each value is the id of the action (id column in train.csv), and it has the following structure (above) and the df is basically\n",
    "# a type 1 file (which contain the columns \"measurement type\" or a type 2 file which doesn't has that column, and both of the files has 3 measurements\n",
    "# columns (x, y and z))"
   ]
  },
  {
   "cell_type": "code",
   "execution_count": 57,
   "metadata": {
    "pycharm": {
     "name": "#%%\n"
    }
   },
   "outputs": [],
   "source": [
    "# Somebody said preprocessing?, nice thing i done it before. note for me: use the code below when preprocessing the test data.\n",
    "# Preprocessing for type 1 activity files\n",
    "for id_, info in data.items():\n",
    "    df = data[id_]['dataframe']\n",
    "    if 'measurement type' in info['dataframe'].columns:\n",
    "        # Remove measurements types from type 1 files and keep only the measurements of acceleration\n",
    "        data[id_]['dataframe'].drop(df[df['measurement type'] != 'acceleration [m/s/s]'].index, inplace=True)\n",
    "\n",
    "# Preprocessing for type 2 activity files\n",
    "for id_, info in data.items():\n",
    "    df = data[id_]['dataframe']\n",
    "    if 'measurement type' not in info['dataframe'].columns:\n",
    "        # Change column names to x, y, z\n",
    "        df.rename(columns={'x [m]': 'x', 'y [m]': 'y', 'z [m]': 'z'}, inplace=True)\n",
    "        # Multiply the measurements by 10\n",
    "        df[['x', 'y', 'z']] *= 9.8\n",
    "\n",
    "\n",
    "# # Shift the z-axis values in type 1 files by adding 20\n",
    "# for id_, info in data.items():\n",
    "#     if 'measurement type' in info['dataframe'].columns:\n",
    "#         data[id_]['dataframe']['z'] += 20\n",
    "\n",
    "# # Preprocessing for type 2 activity files\n",
    "# # Define desired range\n",
    "# desired_min = 0\n",
    "# desired_max = 40\n",
    "# for id_, info in data.items():\n",
    "#     if 'measurement type' not in info['dataframe'].columns:\n",
    "#         df = info['dataframe']\n",
    "#         # Stretch the values distribution using Min-Max scaling\n",
    "#         min_val = df['z'].min()\n",
    "#         max_val = df['z'].max()\n",
    "#         df['z'] = ((df['z'] - min_val) / (max_val - min_val)) * (desired_max - desired_min) + desired_min\n",
    "#         # Clip values to ensure they fall within the desired range\n",
    "#         df['z'] = np.clip(df['z'], desired_min, desired_max)\n"
   ]
  },
  {
   "cell_type": "markdown",
   "metadata": {
    "pycharm": {
     "name": "#%% md\n"
    }
   },
   "source": [
    "before splitting the data let's preprocess the test data"
   ]
  },
  {
   "cell_type": "code",
   "execution_count": 59,
   "metadata": {},
   "outputs": [],
   "source": [
    "# All the code to reprocess the test data on a dict called unlabeled_data which it's keys = file name, and values are the dataframe\n",
    "unlabeled_files = os.listdir(unlabeled_folder_path)\n",
    "unlabeled_data = {}  # New variable to store unlabeled data\n",
    "for filename in unlabeled_files:\n",
    "    id_ = int(filename.split('.')[0])  # Extract ID from filename\n",
    "    if id_ not in data.keys():\n",
    "        # File not in train.csv, so we need to add it\n",
    "        csv_filename = os.path.join(unlabeled_folder_path, filename)\n",
    "        df = pd.read_csv(csv_filename)\n",
    "        # df = cudf.read_csv(csv_filename)\n",
    "        unlabeled_data[id_] = {'dataframe': df}\n",
    "\n",
    "for id_, info in unlabeled_data.items():\n",
    "    df = unlabeled_data[id_]['dataframe']\n",
    "    if 'measurement type' in info['dataframe'].columns:\n",
    "        # Remove measurements types from type 1 files and keep only the measurements of acceleration\n",
    "        unlabeled_data[id_]['dataframe'].drop(df[df['measurement type'] != 'acceleration [m/s/s]'].index, inplace=True)\n",
    "\n",
    "# Preprocessing for type 2 activity files\n",
    "for id_, info in unlabeled_data.items():\n",
    "    df = unlabeled_data[id_]['dataframe']\n",
    "    if 'measurement type' not in info['dataframe'].columns:\n",
    "        # Change column names to x, y, z\n",
    "        df.rename(columns={'x [m]': 'x', 'y [m]': 'y', 'z [m]': 'z'}, inplace=True)\n",
    "        # Multiply the measurements by 10\n",
    "        df[['x', 'y', 'z']] *= 9.8\n",
    "\n",
    "for id_, info in unlabeled_data.items():\n",
    "    if 'measurement type' in info['dataframe']:\n",
    "        info['dataframe'] = info['dataframe'].drop(columns=['measurement type'])"
   ]
  },
  {
   "cell_type": "code",
   "execution_count": 60,
   "metadata": {
    "pycharm": {
     "name": "#%%\n"
    }
   },
   "outputs": [],
   "source": [
    "for id_, info in unlabeled_data.items():\n",
    "    df = info['dataframe']\n",
    "    if df.isnull().values.any():\n",
    "        # Fill null values with the mean of the values in the previous and next rows\n",
    "        for col in df.columns:\n",
    "            # Iterate over each row\n",
    "            for i in range(len(df)):\n",
    "                if pd.isnull(df.loc[i, col]):  # Check if the value is null\n",
    "                    # Fill null value with the mean of the previous and next rows\n",
    "                    if i == 0:\n",
    "                        df.loc[i, col] = df.loc[i + 1, col]\n",
    "                    elif i == len(df) - 1:\n",
    "                        df.loc[i, col] = df.loc[i - 1, col]\n",
    "                    else:\n",
    "                        df.loc[i, col] = (df.loc[i - 1, col] + df.loc[i + 1, col]) / 2"
   ]
  },
  {
   "cell_type": "code",
   "execution_count": 61,
   "metadata": {},
   "outputs": [],
   "source": [
    "# Split the train data to 80% train, 20% validation\n",
    "# Separate type 1 and type 2 data\n",
    "type1_data = [data[id_] for id_ in data if 'measurement type' in data[id_]['dataframe'].columns]\n",
    "type2_data = [data[id_] for id_ in data if 'measurement type' not in data[id_]['dataframe'].columns]\n",
    "\n",
    "# Split type 1 data into train and validation\n",
    "type1_train = []\n",
    "type1_val = []\n",
    "for activity in train_data['activity'].unique():\n",
    "    activity_data = [d for d in type1_data if d['activity'] == activity]\n",
    "    train_activity_data, val_activity_data = train_test_split(activity_data, test_size=0.2, random_state=42)\n",
    "    type1_train.extend(train_activity_data)\n",
    "    type1_val.extend(val_activity_data)\n",
    "\n",
    "# Split type 2 data into train and validation\n",
    "type2_train = []\n",
    "type2_val = []\n",
    "for activity in train_data['activity'].unique():\n",
    "    activity_data = [d for d in type2_data if d['activity'] == activity]\n",
    "    if len(activity_data) > 1:\n",
    "        train_activity_data, val_activity_data = train_test_split(activity_data, test_size=0.2, random_state=42)\n",
    "        type2_train.extend(train_activity_data)\n",
    "        type2_val.extend(val_activity_data)\n",
    "\n",
    "# Combine train and validation sets\n",
    "train_set = type1_train + type2_train\n",
    "val_set = type1_val + type2_val\n",
    "\n",
    "# Since we finally done those steps, let's try to drop the column measurement type\n",
    "# Drop the 'measurement type' column from dataframes in train_set (if it exists)\n",
    "for sample in train_set:\n",
    "    if 'measurement type' in sample['dataframe']:\n",
    "        sample['dataframe'] = sample['dataframe'].drop(columns=['measurement type'])\n",
    "\n",
    "# Drop the 'measurement type' column from dataframes in val_set (if it exists)\n",
    "for sample in val_set:\n",
    "    if 'measurement type' in sample['dataframe']:\n",
    "        sample['dataframe'] = sample['dataframe'].drop(columns=['measurement type'])\n",
    "\n"
   ]
  },
  {
   "cell_type": "markdown",
   "metadata": {
    "pycharm": {
     "name": "#%% md\n"
    }
   },
   "source": [
    "**Section b**\n",
    "\n",
    "In this section, we opted for a naïve baseline solution using class distribution, specifically by predicting the most frequent class for all instances in the dataset. \n",
    "\n",
    "We calculated the class distribution in the training data using a Counter to count the frequency of each class.\n",
    "Then, we identified the most frequent class, which serves as our prediction for all instances in both the training and validation sets. (naive prediction)\n",
    "\n",
    "why i chose this way?!?!: simple and easy to implement.\n",
    "And serves as a baseline, it provides a basic benchmark for comparing the performance of more complex models. (oh i am excited, what next)\n",
    "\n",
    "But why i feel a bit sad?!?!: This model lacks predictive power, By always predicting the most frequent class, the model may overlook important patterns and variations in the data. (but, it's ok, its naiiiiiive)"
   ]
  },
  {
   "cell_type": "code",
   "execution_count": 62,
   "metadata": {},
   "outputs": [],
   "source": [
    "# Define X_train and y_train and X_val and y_val\n",
    "# Extract features and labels for training set\n",
    "X_train = []\n",
    "y_train = []\n",
    "for sample in train_set:\n",
    "    X_train.append(sample['dataframe'])\n",
    "    y_train.append(sample['activity'])\n",
    "\n",
    "# Extract features and labels for validation set\n",
    "X_val = []\n",
    "y_val = []\n",
    "for sample in val_set:\n",
    "    X_val.append(sample['dataframe'])\n",
    "    y_val.append(sample['activity'])"
   ]
  },
  {
   "cell_type": "code",
   "execution_count": 63,
   "metadata": {
    "pycharm": {
     "name": "#%%\n"
    }
   },
   "outputs": [
    {
     "name": "stdout",
     "output_type": "stream",
     "text": [
      "Train accuracy using class distribution: 0.09110591280111487\n",
      "Validation accuracy using class distribution: 0.09111685214626392\n"
     ]
    }
   ],
   "source": [
    "# X_train and X_val are both lists of dataframes (type 1 + 2)\n",
    "# y_train and y_val are both lists of activities names\n",
    "\n",
    "# Calculate class distribution in the entire training data (using Counter for lists)\n",
    "from collections import Counter\n",
    "class_counts = Counter(y_train)  # Create a Counter for frequency counting\n",
    "sorted_class_counts = sorted(class_counts.items(), key=lambda item: item[1], reverse=True)\n",
    "most_frequent_class = sorted_class_counts[0][0]  # Get the most frequent class\n",
    "\n",
    "def class_distribution_prediction(sample):\n",
    "    return most_frequent_class  # Always predict the most frequent class\n",
    "\n",
    "# Calculate train and validation accuracy (using list indexing for y_train)\n",
    "train_predictions = [class_distribution_prediction(sample) for sample in X_train]\n",
    "train_accuracy = accuracy_score(y_train, train_predictions)\n",
    "\n",
    "val_predictions = [class_distribution_prediction(sample) for sample in X_val]\n",
    "val_accuracy = accuracy_score(y_val, val_predictions)\n",
    "\n",
    "print(\"Train accuracy using class distribution:\", train_accuracy)\n",
    "print(\"Validation accuracy using class distribution:\", val_accuracy)\n"
   ]
  },
  {
   "cell_type": "markdown",
   "metadata": {},
   "source": [
    "The output shows the accuracy achieved by the naïve baseline solution using class distribution.\n",
    "Both the training and validation accuracies are approximately 0.09, indicating that the model correctly predicts the most frequent class for around 9% of instances.\n",
    "This low accuracy underscores the limitations of the approach and highlights the need for more sophisticated modeling techniques to improve predictive performance.\n",
    "\n",
    "Let's make our hands dirty with some ML DL implementations. --> next section"
   ]
  },
  {
   "cell_type": "markdown",
   "metadata": {
    "pycharm": {
     "name": "#%% md\n"
    }
   },
   "source": [
    "**Section c**\n",
    "\n",
    "note for me: \n",
    "\n",
    "train_set: has 80% of each activity and 80% of each file type for training. {{dataframe, userid, sensor, body_part, side, sequence_length, activity}, ...}\n",
    "\n",
    "val_set: has 20% of each activity and 20% of each file type for training. {{dataframe, userid, sensor, body_part, side, sequence_length, activity}, ...}\n",
    "\n",
    "Now, let's feature extraction from training and validation. (Extracting features from all data may increase the risk of data leakage, especially because i perform preprocessing steps)"
   ]
  },
  {
   "cell_type": "markdown",
   "metadata": {},
   "source": [
    "The function extract_features_from_accelerometer_data computes various statistical features from accelerometer data without delving into the specific interpretations or significance of each statistic. These features include measures like mean, standard deviation, root mean square, skewness, kurtosis, peak-to-peak amplitude, autocorrelation coefficients, FFT coefficients, entropy, median, interquartile range (IQR), variance, coefficient of variation (CV), root mean square deviation (RMSD), and mean absolute deviation (MAD). In the context of time series data, statistics like autocorrelation coefficients, FFT coefficients, and features related to variation (such as standard deviation, variance, and MAD) are particularly important as they capture temporal dependencies, periodic patterns, and overall variability in the data."
   ]
  },
  {
   "cell_type": "code",
   "execution_count": 64,
   "metadata": {},
   "outputs": [],
   "source": [
    "def extract_features_from_accelerometer_data(df):\n",
    "    features = []\n",
    "    \n",
    "    # Mean\n",
    "    mean_values = df.mean()\n",
    "    features.extend(mean_values.tolist())\n",
    "    \n",
    "    # Standard Deviation\n",
    "    std_values = df.std()\n",
    "    features.extend(std_values.tolist())\n",
    "    \n",
    "    # Root Mean Square (RMS)\n",
    "    rms_value = np.sqrt(np.mean(df**2))\n",
    "    features.extend(rms_value.tolist())\n",
    "    \n",
    "    # Skewness\n",
    "    skewness_values = df.apply(skew)\n",
    "    features.extend(skewness_values.tolist())\n",
    "    \n",
    "    # Kurtosis\n",
    "    kurtosis_values = df.apply(kurtosis)\n",
    "    features.extend(kurtosis_values.tolist())\n",
    "    \n",
    "    # Peak-to-Peak Amplitude\n",
    "    peak_to_peak_values = df.apply(lambda x: x.max() - x.min())\n",
    "    features.extend(peak_to_peak_values.tolist())\n",
    "    \n",
    "    # Autocorrelation Coefficients\n",
    "    autocorr = df.apply(lambda x: x.autocorr())\n",
    "    features.append(autocorr.mean())\n",
    "    features.append(autocorr.std())\n",
    "    \n",
    "    # Fast Fourier Transform (FFT) Coefficients\n",
    "    fft_coeffs = np.abs(np.fft.fft(df))\n",
    "    features.extend(np.mean(fft_coeffs, axis=0).tolist())\n",
    "    features.extend(np.std(fft_coeffs, axis=0).tolist())\n",
    "    \n",
    "    # Entropy\n",
    "    # entropy_values = df.apply(lambda x: entropy(np.histogram(x[~np.isnan(x)], bins='auto')[0]))\n",
    "    # features.extend(entropy_values.tolist())\n",
    "\n",
    "\n",
    "    \n",
    "    # Additional Statistical Features i have to test (include improvment for the previous)\n",
    "    # Median\n",
    "    median_values = df.median()\n",
    "    features.extend(median_values.tolist())\n",
    "    \n",
    "    # Interquartile Range (IQR)\n",
    "    iqr_values = df.quantile(0.75) - df.quantile(0.25)\n",
    "    features.extend(iqr_values.tolist())\n",
    "    \n",
    "    # # Minimum\n",
    "    # min_values = df.min()\n",
    "    # # features.extend(min_values.tolist())\n",
    "    \n",
    "    # # Maximum\n",
    "    # max_values = df.max()\n",
    "    # # features.extend(max_values.tolist())\n",
    "    \n",
    "    # # Range\n",
    "    # range_values = max_values - min_values\n",
    "    # features.extend(range_values.tolist())\n",
    "    \n",
    "    # Variance\n",
    "    variance_values = df.var()\n",
    "    features.extend(variance_values.tolist())\n",
    "    \n",
    "    # Coefficient of Variation (CV)\n",
    "    cv_values = std_values / mean_values\n",
    "    features.extend(cv_values.tolist())\n",
    "    \n",
    "    # Root Mean Square Deviation (RMSD)\n",
    "    rmsd_values = np.sqrt(np.mean((df - mean_values)**2))\n",
    "    # features.append(np.nan_to_num(rmsd_values))\n",
    "    for value in np.nan_to_num(rmsd_values):\n",
    "        features.append(value)\n",
    "    \n",
    "    # Mean Absolute Deviation (MAD)\n",
    "    med_abs_dev_values = np.median(np.abs(df - np.median(df)))\n",
    "    # features.extend(med_abs_dev_values.tolist())\n",
    "    features.append(np.nan_to_num(med_abs_dev_values))\n",
    "    \n",
    "    # # Sum\n",
    "    # sum_values = df.sum()\n",
    "    # features.extend(sum_values.tolist())\n",
    "\n",
    "    \n",
    "    # Concatenate features into a single feature vector\n",
    "    feature_vector = np.array(features).flatten()\n",
    "\n",
    "    return feature_vector"
   ]
  },
  {
   "cell_type": "markdown",
   "metadata": {},
   "source": [
    "The extract_features function takes a dataset consisting of a list of dictionaries, each containing sample information, and extracts features from the accelerometer measurements stored in the 'dataframe' key of each dictionary. It returns two lists: 'X', containing the feature vectors, and 'y', containing the corresponding labels. Inside the function, it iterates over each sample in the dataset, extracts features using the extract_features_from_accelerometer_data function, appends the features to 'X', and appends the label to 'y'. Finally, it returns the lists of feature vectors and labels for both the training and validation sets."
   ]
  },
  {
   "cell_type": "code",
   "execution_count": 65,
   "metadata": {},
   "outputs": [],
   "source": [
    "def extract_features(dataset):\n",
    "    X = []  # Feature vectors\n",
    "    y = []  # Labels\n",
    "\n",
    "    for sample in dataset:\n",
    "        # Extract relevant features from the accelerometer measurements\n",
    "        features = extract_features_from_accelerometer_data(sample['dataframe'])\n",
    "\n",
    "        # Append features to X\n",
    "        X.append(features)\n",
    "\n",
    "        # Append label to y\n",
    "        y.append(sample['activity'])\n",
    "\n",
    "    return X, y\n",
    "\n",
    "# Extract features from the training set\n",
    "X_train, y_train = extract_features(train_set)\n",
    "\n",
    "# Extract features from the validation set\n",
    "X_val, y_val = extract_features(val_set)\n"
   ]
  },
  {
   "cell_type": "markdown",
   "metadata": {},
   "source": [
    "Here, a Random Forest classifier is initialized with 100 trees and a random state of 42. To prepare the input data for the classifier, the nested NumPy arrays in `X_train` and `X_val` are flattened using a custom `flatten` function. Then, the flattened arrays are converted to PyTorch tensors and moved to the GPU for faster computation. The string labels in `y_train` and `y_val` are encoded using `LabelEncoder`, and the encoded labels are converted to PyTorch tensors. The Random Forest model is trained using the training data, and predictions are made for both the training and validation sets. Finally, the accuracy scores for both sets are calculated using the `accuracy_score` function and printed out."
   ]
  },
  {
   "cell_type": "code",
   "execution_count": 66,
   "metadata": {},
   "outputs": [
    {
     "name": "stdout",
     "output_type": "stream",
     "text": [
      "Train Accuracy (Random Forest): 1.0\n",
      "Validation Accuracy (Random Forest): 0.9708863275039745\n"
     ]
    }
   ],
   "source": [
    "# Initialize the Random Forest classifier\n",
    "rf_classifier = RandomForestClassifier(n_estimators=100, random_state=42)\n",
    "\n",
    "# Flatten the nested NumPy arrays in X_train\n",
    "def flatten(arr):\n",
    "    flat_arr = []\n",
    "    for item in arr:\n",
    "        if isinstance(item, np.ndarray):\n",
    "            flat_arr.extend(flatten(item))\n",
    "        else:\n",
    "            flat_arr.append(item)\n",
    "    return flat_arr\n",
    "\n",
    "X_train_flat = [flatten(sample) if isinstance(sample, np.ndarray) else sample for sample in X_train]\n",
    "X_val_flat = [flatten(sample) if isinstance(sample, np.ndarray) else sample for sample in X_val]\n",
    "\n",
    "\n",
    "# Convert X_train_flat to a PyTorch tensor and move it to GPU\n",
    "X_train_tensor = torch.tensor(X_train_flat, dtype=torch.float32).cuda()\n",
    "X_val_tensor = torch.tensor(X_val_flat, dtype=torch.float32).cuda()\n",
    "\n",
    "# Encode the string labels in y_train\n",
    "label_encoder = LabelEncoder()\n",
    "y_train_encoded = label_encoder.fit_transform(y_train)\n",
    "y_val_encoded = label_encoder.fit_transform(y_val)\n",
    "\n",
    "# Convert y_train_encoded to a PyTorch tensor\n",
    "y_train_tensor = torch.tensor(y_train_encoded, dtype=torch.long).cuda()\n",
    "\n",
    "# Train the Random Forest model\n",
    "rf_classifier.fit(X_train_tensor.cpu().numpy(), y_train_tensor.cpu().numpy())\n",
    "\n",
    "# Predict labels for the training set\n",
    "train_predictions_rf = rf_classifier.predict(X_train_tensor.cpu().numpy())\n",
    "\n",
    "# Calculate accuracy score on the training set\n",
    "train_accuracy_rf = accuracy_score(y_train_encoded, train_predictions_rf)\n",
    "\n",
    "# Predict labels for the validation set\n",
    "val_predictions_rf = rf_classifier.predict(X_val_tensor.cpu().numpy())\n",
    "\n",
    "# Calculate accuracy score on the validation set\n",
    "val_accuracy_rf = accuracy_score(y_val_encoded, val_predictions_rf)\n",
    "\n",
    "print(\"Train Accuracy (Random Forest):\", train_accuracy_rf)\n",
    "print(\"Validation Accuracy (Random Forest):\", val_accuracy_rf)"
   ]
  },
  {
   "cell_type": "markdown",
   "metadata": {},
   "source": [
    "Training accuracy of 1.0 means the model memorized the training data perfectly. This is great, but it could also mean it's overfitting, like remembering faces in photos instead of learning what makes a face (Am i a superhero?). The validation accuracy of 0.971 is good news, It shows the model still works well on new data it hasn't seen before. Overall, the model seems to be doing well, but there's a chance it's a bit too focused on the specific examples it trained on.\n",
    "\n",
    "Overall, these results suggest that the Random Forest model is performing well, but there might be some degree of overfitting to the training data."
   ]
  },
  {
   "cell_type": "markdown",
   "metadata": {},
   "source": [
    "First let's extract the features for the test data:"
   ]
  },
  {
   "cell_type": "code",
   "execution_count": null,
   "metadata": {},
   "outputs": [],
   "source": [
    "# Extract features from the unlabeled data\n",
    "unlabeled_features = {}\n",
    "for id_, info in unlabeled_data.items():\n",
    "    features = extract_features_from_accelerometer_data(info['dataframe'])\n",
    "    unlabeled_features[id_] = features"
   ]
  },
  {
   "cell_type": "markdown",
   "metadata": {},
   "source": [
    "Next, let's use the trained Random Forest classifier to make predictions on these unlabeled feature vectors, obtaining class probabilities. These probabilities are organized into a DataFrame with activity names as columns and sample IDs as indices. Finally, the predictions are saved to a CSV file named 'predictions_randomforest.csv'."
   ]
  },
  {
   "cell_type": "code",
   "execution_count": null,
   "metadata": {},
   "outputs": [],
   "source": [
    "# Extract feature vectors from the unlabeled features dictionary\n",
    "unlabeled_feature_vectors = []\n",
    "for features in unlabeled_features.values():\n",
    "    flat_features = []\n",
    "    for item in features:\n",
    "        if isinstance(item, np.ndarray):\n",
    "            flat_features.extend(item)\n",
    "        else:\n",
    "            flat_features.append(item)\n",
    "    unlabeled_feature_vectors.append(flat_features)\n",
    "\n",
    "# Convert feature vectors to a NumPy array and then to a tensor\n",
    "unlabeled_features_np = np.array(unlabeled_feature_vectors, dtype=np.float32)\n",
    "unlabeled_features_tensor = torch.tensor(unlabeled_features_np).cuda()\n",
    "\n",
    "# Make predictions using the trained Random Forest classifier\n",
    "unlabeled_probabilities_numpy = rf_classifier.predict_proba(unlabeled_features_tensor.cpu().numpy())\n",
    "\n",
    "activity_names = label_encoder.inverse_transform(rf_classifier.classes_)\n",
    "\n",
    "# Organize the probabilities into a DataFrame\n",
    "probabilities_df = pd.DataFrame(unlabeled_probabilities_numpy, index=list(unlabeled_features.keys()), columns=activity_names)\n",
    "\n",
    "# Sort the DataFrame by index (ID)\n",
    "probabilities_df = probabilities_df.sort_index()\n",
    "\n",
    "# Save the predictions to a CSV file\n",
    "probabilities_df.index.name = \"sample_id\"\n",
    "probabilities_df.to_csv('/home/janz/model/predictions_randomforest.csv')\n"
   ]
  },
  {
   "cell_type": "markdown",
   "metadata": {
    "pycharm": {
     "name": "#%% md\n"
    }
   },
   "source": [
    "**Section d**\n",
    "\n",
    "Let's start with 1D-CNN.\n",
    "\n",
    "First of all we have to use label encoding to change the activities to numeric types. Then, conversion to PyTorch tensors --> creation of DataLoaders, in order to prepare the data for training and validation "
   ]
  },
  {
   "cell_type": "code",
   "execution_count": 67,
   "metadata": {
    "pycharm": {
     "name": "#%%\n"
    }
   },
   "outputs": [
    {
     "name": "stderr",
     "output_type": "stream",
     "text": [
      "/tmp/ipykernel_10432/3062554525.py:15: UserWarning: Creating a tensor from a list of numpy.ndarrays is extremely slow. Please consider converting the list to a single numpy.ndarray with numpy.array() before converting to a tensor. (Triggered internally at ../torch/csrc/utils/tensor_new.cpp:245.)\n",
      "  X_train_tensor = torch.tensor(X_train, dtype=torch.float32).to(device)\n"
     ]
    }
   ],
   "source": [
    "device = torch.device(\"cuda\" if torch.cuda.is_available() else \"cpu\")\n",
    "batch_size = 18\n",
    "\n",
    "# Initialize LabelEncoder\n",
    "label_encoder = LabelEncoder()\n",
    "\n",
    "# Fit label encoder and transform labels (activities)\n",
    "y_train_encoded = label_encoder.fit_transform(y_train)\n",
    "y_val_encoded = label_encoder.transform(y_val)\n",
    "\n",
    "# Get the mapping between activity names and encoded numerical values\n",
    "activity_mapping = dict(zip(label_encoder.classes_, label_encoder.transform(label_encoder.classes_)))\n",
    "\n",
    "# Convert data to PyTorch tensors\n",
    "X_train_tensor = torch.tensor(X_train, dtype=torch.float32).to(device)\n",
    "X_val_tensor = torch.tensor(X_val, dtype=torch.float32).to(device)\n",
    "y_train_tensor = torch.tensor(y_train_encoded).to(device)\n",
    "y_val_tensor = torch.tensor(y_val_encoded).to(device)\n",
    "\n",
    "# Create DataLoader\n",
    "train_data = TensorDataset(X_train_tensor, y_train_tensor)\n",
    "train_loader = DataLoader(train_data, batch_size=batch_size, shuffle=True)\n",
    "val_data = TensorDataset(X_val_tensor, y_val_tensor)\n",
    "val_loader = DataLoader(val_data, batch_size=batch_size)"
   ]
  },
  {
   "cell_type": "markdown",
   "metadata": {
    "pycharm": {
     "name": "#%% md\n"
    }
   },
   "source": [
    "I'll start by setting the random seed using torch.manual_seed(42) to ensure reproducibility of the results of PyTorch. This means that each time the code is run with the same random seed, the same sequence of random numbers will be generated. This is crucial for debugging, experimentation, and comparing different models or hyperparameters. (which is what i am going to do).\n",
    "\n",
    "The 1D-CNN model defined in the code below is a convolutional neural network designed for processing one-dimensional sequential data, which is ours, time-series and sensor data. The model architecture consists of three convolutional layers (conv1, conv2, and conv3) followed by ReLU activation functions to introduce non-linearity. Max-pooling layers (pool) are used to down-sample the feature maps, reducing their spatial dimensions. Dropout regularization (dropout) is applied to prevent overfitting by randomly setting a fraction of the input units to zero during training. Finally, two fully connected layers (fc1 and fc2) are employed to perform classification, with the last layer producing output logits for each class.\n",
    "\n",
    "In each nueral network project, it is important to address the use of hyperparameters: In this case, the learning rate, batch size, number of epochs, and hidden layer size are crucial parameters. A learning rate of 0.001 is commonly used as it strikes a balance between achieving reasonable convergence without causing divergence. The batch size, set to 18, determines the number of training examples processed in each iteration, balancing computational efficiency and memory requirements. With 100 epochs, the model iterates through the entire training dataset this number of times, affecting convergence and generalization. These hyperparameters need careful tuning to achieve optimal performance and prevent issues like underfitting or overfitting. Experimentation and tuning are essential to find the right configuration for the specific dataset and model architecture."
   ]
  },
  {
   "cell_type": "code",
   "execution_count": 68,
   "metadata": {},
   "outputs": [],
   "source": [
    "# Set random seed for PyTorch's random number generator\n",
    "torch.manual_seed(42)\n",
    "random.seed(42)\n",
    "torch.backends.cudnn.deterministic = True\n",
    "torch.backends.cudnn.benchmark = False\n",
    "\n",
    "# Define hyperparameters\n",
    "input_size = 42  # Size of feature vector\n",
    "num_classes = 18  # Number of unique activities\n",
    "num_epochs = 100\n",
    "learning_rate = 0.001 # 0.001\n",
    "\n",
    "class CNN1D(nn.Module):\n",
    "    def __init__(self, input_size, num_classes):\n",
    "        super(CNN1D, self).__init__()\n",
    "        self.conv1 = nn.Conv1d(in_channels=1, out_channels=32, kernel_size=3, padding=1)\n",
    "        # self.batch_norm1 = nn.BatchNorm1d(32)  # Batch normalization after conv1\n",
    "        self.relu1 = nn.ReLU()\n",
    "        self.pool1 = nn.MaxPool1d(kernel_size=2)\n",
    "        \n",
    "        self.conv2 = nn.Conv1d(in_channels=32, out_channels=64, kernel_size=3, padding=1)\n",
    "        # self.batch_norm2 = nn.BatchNorm1d(64)  # Batch normalization after conv2\n",
    "        self.relu2 = nn.ReLU()\n",
    "        self.pool2 = nn.MaxPool1d(kernel_size=2)\n",
    "\n",
    "        # self.conv3 = nn.Conv1d(in_channels=64, out_channels=128, kernel_size=3, padding=1)\n",
    "        # self.batch_norm3 = nn.BatchNorm1d(128)  # Batch normalization after conv2\n",
    "        # self.relu3 = nn.ReLU()\n",
    "        # self.pool3 = nn.MaxPool1d(kernel_size=2)\n",
    "        \n",
    "        self.fc = nn.Linear(64 * (input_size // 4), num_classes)  # Adjusted number of neurons\n",
    "        # self.fc1 = nn.Linear(128 * (input_size // 8), 256)  # Added fully connected layer\n",
    "        # self.fc2 = nn.Linear(256, num_classes)  # Output layer\n",
    "        \n",
    "        # self.dropout = nn.Dropout(0.5)  # Adding dropout\n",
    "\n",
    "    def forward(self, x):\n",
    "        x = x.unsqueeze(1)\n",
    "        x = self.conv1(x)\n",
    "        x = self.relu1(x)\n",
    "        x = self.pool1(x)\n",
    "        \n",
    "        x = self.conv2(x)\n",
    "        x = self.relu2(x)\n",
    "        x = self.pool2(x)\n",
    "\n",
    "        # x = self.conv3(x)\n",
    "        # x = self.batch_norm3(x)\n",
    "        # x = self.relu3(x)\n",
    "        # x = self.pool3(x)\n",
    "        \n",
    "        x = torch.flatten(x, 1)\n",
    "        # x = self.dropout(x)  # Applying dropout\n",
    "        x = self.fc(x)\n",
    "        # x = torch.flatten(x, 1)\n",
    "        # x = F.relu(self.fc1(x))  # Apply ReLU after the first fully connected layer\n",
    "        # x = self.dropout(x)  # Applying dropout\n",
    "        # x = self.fc2(x)\n",
    "        return x\n",
    "\n",
    "# Initialize the model\n",
    "model = CNN1D(input_size, num_classes).to(device)\n",
    "\n",
    "# Define loss function and optimizer\n",
    "criterion = nn.CrossEntropyLoss()\n",
    "optimizer = torch.optim.Adam(model.parameters(), lr=learning_rate)    "
   ]
  },
  {
   "cell_type": "markdown",
   "metadata": {},
   "source": [
    "This code defines a training loop for a neural network model. It iterates over a specified number of epochs, performing training and validation steps in each epoch. Within each epoch, it trains the model on the training data, computes the training loss and accuracy, and then evaluates the model on the validation data to compute the validation loss and accuracy. The training and validation losses along with the accuracies are recorded for each epoch, and the progress is printed out after each epoch, showing the training and validation loss as well as the training and validation accuracy."
   ]
  },
  {
   "cell_type": "code",
   "execution_count": 69,
   "metadata": {},
   "outputs": [
    {
     "name": "stdout",
     "output_type": "stream",
     "text": [
      "Epoch [1/100], Training Loss: 2.1325, Validation Loss: 1.8484, Training Accuracy: 46.03%, Validation Accuracy: 52.04%\n",
      "Epoch [2/100], Training Loss: 1.4811, Validation Loss: 1.7339, Training Accuracy: 56.10%, Validation Accuracy: 58.03%\n",
      "Epoch [3/100], Training Loss: 1.4422, Validation Loss: 2.0029, Training Accuracy: 60.67%, Validation Accuracy: 63.00%\n",
      "Epoch [4/100], Training Loss: 1.5936, Validation Loss: 1.5958, Training Accuracy: 64.02%, Validation Accuracy: 63.17%\n",
      "Epoch [5/100], Training Loss: 1.4412, Validation Loss: 2.1043, Training Accuracy: 66.14%, Validation Accuracy: 66.94%\n",
      "Epoch [6/100], Training Loss: 1.3245, Validation Loss: 1.6389, Training Accuracy: 67.72%, Validation Accuracy: 67.53%\n",
      "Epoch [7/100], Training Loss: 1.1459, Validation Loss: 1.7909, Training Accuracy: 69.18%, Validation Accuracy: 70.46%\n",
      "Epoch [8/100], Training Loss: 1.5134, Validation Loss: 2.4803, Training Accuracy: 71.15%, Validation Accuracy: 70.14%\n",
      "Epoch [9/100], Training Loss: 0.9434, Validation Loss: 1.2055, Training Accuracy: 72.40%, Validation Accuracy: 71.26%\n",
      "Epoch [10/100], Training Loss: 1.0655, Validation Loss: 1.8477, Training Accuracy: 72.99%, Validation Accuracy: 72.07%\n",
      "Epoch [11/100], Training Loss: 1.1714, Validation Loss: 3.0628, Training Accuracy: 73.98%, Validation Accuracy: 72.01%\n",
      "Epoch [12/100], Training Loss: 0.9749, Validation Loss: 2.0412, Training Accuracy: 74.28%, Validation Accuracy: 72.37%\n",
      "Epoch [13/100], Training Loss: 1.0671, Validation Loss: 2.3491, Training Accuracy: 74.85%, Validation Accuracy: 73.59%\n",
      "Epoch [14/100], Training Loss: 0.8789, Validation Loss: 1.6815, Training Accuracy: 75.28%, Validation Accuracy: 74.24%\n",
      "Epoch [15/100], Training Loss: 0.7501, Validation Loss: 1.3892, Training Accuracy: 76.58%, Validation Accuracy: 75.02%\n",
      "Epoch [16/100], Training Loss: 0.8912, Validation Loss: 0.9914, Training Accuracy: 76.83%, Validation Accuracy: 75.34%\n",
      "Epoch [17/100], Training Loss: 0.6707, Validation Loss: 1.2108, Training Accuracy: 77.25%, Validation Accuracy: 75.40%\n",
      "Epoch [18/100], Training Loss: 0.6424, Validation Loss: 0.8207, Training Accuracy: 77.60%, Validation Accuracy: 76.74%\n",
      "Epoch [19/100], Training Loss: 0.6858, Validation Loss: 1.0718, Training Accuracy: 78.27%, Validation Accuracy: 77.63%\n",
      "Epoch [20/100], Training Loss: 0.7517, Validation Loss: 1.2138, Training Accuracy: 78.64%, Validation Accuracy: 76.53%\n",
      "Epoch [21/100], Training Loss: 0.5899, Validation Loss: 1.0239, Training Accuracy: 79.26%, Validation Accuracy: 76.87%\n",
      "Epoch [22/100], Training Loss: 0.5659, Validation Loss: 0.8625, Training Accuracy: 79.42%, Validation Accuracy: 77.85%\n",
      "Epoch [23/100], Training Loss: 0.5577, Validation Loss: 0.7467, Training Accuracy: 79.92%, Validation Accuracy: 78.12%\n",
      "Epoch [24/100], Training Loss: 0.5528, Validation Loss: 0.6170, Training Accuracy: 80.31%, Validation Accuracy: 78.24%\n",
      "Epoch [25/100], Training Loss: 0.5339, Validation Loss: 0.6249, Training Accuracy: 80.53%, Validation Accuracy: 79.04%\n",
      "Epoch [26/100], Training Loss: 0.5181, Validation Loss: 0.6531, Training Accuracy: 81.06%, Validation Accuracy: 79.95%\n",
      "Epoch [27/100], Training Loss: 0.5189, Validation Loss: 0.7052, Training Accuracy: 81.38%, Validation Accuracy: 79.70%\n",
      "Epoch [28/100], Training Loss: 0.5282, Validation Loss: 0.7065, Training Accuracy: 81.80%, Validation Accuracy: 77.04%\n",
      "Epoch [29/100], Training Loss: 0.4960, Validation Loss: 0.6402, Training Accuracy: 81.70%, Validation Accuracy: 79.71%\n",
      "Epoch [30/100], Training Loss: 0.4960, Validation Loss: 0.7774, Training Accuracy: 82.15%, Validation Accuracy: 77.68%\n",
      "Epoch [31/100], Training Loss: 0.5036, Validation Loss: 0.6732, Training Accuracy: 82.06%, Validation Accuracy: 79.44%\n",
      "Epoch [32/100], Training Loss: 0.4797, Validation Loss: 0.5854, Training Accuracy: 82.74%, Validation Accuracy: 79.94%\n",
      "Epoch [33/100], Training Loss: 0.4742, Validation Loss: 0.6390, Training Accuracy: 82.96%, Validation Accuracy: 80.05%\n",
      "Epoch [34/100], Training Loss: 0.4713, Validation Loss: 0.5986, Training Accuracy: 82.86%, Validation Accuracy: 79.90%\n",
      "Epoch [35/100], Training Loss: 0.4687, Validation Loss: 0.5561, Training Accuracy: 83.13%, Validation Accuracy: 81.33%\n",
      "Epoch [36/100], Training Loss: 0.4494, Validation Loss: 0.6024, Training Accuracy: 83.27%, Validation Accuracy: 79.47%\n",
      "Epoch [37/100], Training Loss: 0.4471, Validation Loss: 0.5949, Training Accuracy: 83.58%, Validation Accuracy: 80.66%\n",
      "Epoch [38/100], Training Loss: 0.4594, Validation Loss: 0.5906, Training Accuracy: 83.47%, Validation Accuracy: 80.90%\n",
      "Epoch [39/100], Training Loss: 0.4419, Validation Loss: 0.6149, Training Accuracy: 83.72%, Validation Accuracy: 79.45%\n",
      "Epoch [40/100], Training Loss: 0.7045, Validation Loss: 0.6383, Training Accuracy: 83.62%, Validation Accuracy: 80.68%\n",
      "Epoch [41/100], Training Loss: 0.4263, Validation Loss: 0.5528, Training Accuracy: 84.42%, Validation Accuracy: 81.92%\n",
      "Epoch [42/100], Training Loss: 0.4244, Validation Loss: 0.6012, Training Accuracy: 84.38%, Validation Accuracy: 80.71%\n",
      "Epoch [43/100], Training Loss: 0.4195, Validation Loss: 0.5823, Training Accuracy: 84.65%, Validation Accuracy: 81.59%\n",
      "Epoch [44/100], Training Loss: 0.4282, Validation Loss: 0.6175, Training Accuracy: 84.17%, Validation Accuracy: 81.86%\n",
      "Epoch [45/100], Training Loss: 0.4204, Validation Loss: 0.5774, Training Accuracy: 84.72%, Validation Accuracy: 81.13%\n",
      "Epoch [46/100], Training Loss: 0.4367, Validation Loss: 0.6216, Training Accuracy: 84.38%, Validation Accuracy: 81.04%\n",
      "Epoch [47/100], Training Loss: 0.4716, Validation Loss: 0.6369, Training Accuracy: 84.70%, Validation Accuracy: 80.12%\n",
      "Epoch [48/100], Training Loss: 0.4146, Validation Loss: 0.6168, Training Accuracy: 85.19%, Validation Accuracy: 80.48%\n",
      "Epoch [49/100], Training Loss: 0.4144, Validation Loss: 0.6690, Training Accuracy: 84.93%, Validation Accuracy: 79.67%\n",
      "Epoch [50/100], Training Loss: 0.4043, Validation Loss: 0.6757, Training Accuracy: 85.11%, Validation Accuracy: 79.08%\n",
      "Epoch [51/100], Training Loss: 0.4058, Validation Loss: 0.5853, Training Accuracy: 85.08%, Validation Accuracy: 81.30%\n",
      "Epoch [52/100], Training Loss: 0.4028, Validation Loss: 0.5595, Training Accuracy: 85.24%, Validation Accuracy: 81.99%\n",
      "Epoch [53/100], Training Loss: 0.4101, Validation Loss: 0.5696, Training Accuracy: 85.06%, Validation Accuracy: 82.55%\n",
      "Epoch [54/100], Training Loss: 0.3970, Validation Loss: 0.5697, Training Accuracy: 85.39%, Validation Accuracy: 81.41%\n",
      "Epoch [55/100], Training Loss: 0.3814, Validation Loss: 0.5581, Training Accuracy: 85.75%, Validation Accuracy: 82.54%\n",
      "Epoch [56/100], Training Loss: 0.3906, Validation Loss: 0.6131, Training Accuracy: 85.44%, Validation Accuracy: 80.43%\n",
      "Epoch [57/100], Training Loss: 0.4394, Validation Loss: 0.5706, Training Accuracy: 85.57%, Validation Accuracy: 81.69%\n",
      "Epoch [58/100], Training Loss: 0.3749, Validation Loss: 0.5340, Training Accuracy: 86.08%, Validation Accuracy: 82.42%\n",
      "Epoch [59/100], Training Loss: 0.3742, Validation Loss: 0.5241, Training Accuracy: 86.21%, Validation Accuracy: 82.83%\n",
      "Epoch [60/100], Training Loss: 0.3744, Validation Loss: 0.5564, Training Accuracy: 86.02%, Validation Accuracy: 81.84%\n",
      "Epoch [61/100], Training Loss: 0.3878, Validation Loss: 0.5719, Training Accuracy: 85.66%, Validation Accuracy: 81.93%\n",
      "Epoch [62/100], Training Loss: 0.4825, Validation Loss: 0.6483, Training Accuracy: 85.85%, Validation Accuracy: 82.82%\n",
      "Epoch [63/100], Training Loss: 0.3732, Validation Loss: 0.5678, Training Accuracy: 86.27%, Validation Accuracy: 82.13%\n",
      "Epoch [64/100], Training Loss: 0.3684, Validation Loss: 0.5726, Training Accuracy: 86.36%, Validation Accuracy: 81.43%\n",
      "Epoch [65/100], Training Loss: 0.3652, Validation Loss: 0.5357, Training Accuracy: 86.45%, Validation Accuracy: 83.10%\n",
      "Epoch [66/100], Training Loss: 0.3682, Validation Loss: 0.5511, Training Accuracy: 86.42%, Validation Accuracy: 82.63%\n",
      "Epoch [67/100], Training Loss: 0.5249, Validation Loss: 0.5887, Training Accuracy: 86.18%, Validation Accuracy: 81.95%\n",
      "Epoch [68/100], Training Loss: 0.3603, Validation Loss: 0.5690, Training Accuracy: 86.62%, Validation Accuracy: 82.67%\n",
      "Epoch [69/100], Training Loss: 0.3658, Validation Loss: 0.5755, Training Accuracy: 86.51%, Validation Accuracy: 82.43%\n",
      "Epoch [70/100], Training Loss: 0.3604, Validation Loss: 0.5529, Training Accuracy: 86.62%, Validation Accuracy: 83.10%\n",
      "Epoch [71/100], Training Loss: 0.3509, Validation Loss: 0.5691, Training Accuracy: 87.04%, Validation Accuracy: 83.06%\n",
      "Epoch [72/100], Training Loss: 0.3539, Validation Loss: 0.6006, Training Accuracy: 86.90%, Validation Accuracy: 81.55%\n",
      "Epoch [73/100], Training Loss: 0.3649, Validation Loss: 0.5496, Training Accuracy: 86.54%, Validation Accuracy: 83.38%\n",
      "Epoch [74/100], Training Loss: 0.3573, Validation Loss: 0.6590, Training Accuracy: 86.70%, Validation Accuracy: 80.83%\n",
      "Epoch [75/100], Training Loss: 0.3453, Validation Loss: 0.5119, Training Accuracy: 87.16%, Validation Accuracy: 84.35%\n",
      "Epoch [76/100], Training Loss: 0.3565, Validation Loss: 0.5685, Training Accuracy: 87.15%, Validation Accuracy: 83.62%\n",
      "Epoch [77/100], Training Loss: 0.3802, Validation Loss: 0.6110, Training Accuracy: 86.80%, Validation Accuracy: 82.74%\n",
      "Epoch [78/100], Training Loss: 0.3665, Validation Loss: 0.6142, Training Accuracy: 87.05%, Validation Accuracy: 82.03%\n",
      "Epoch [79/100], Training Loss: 0.3629, Validation Loss: 0.6252, Training Accuracy: 86.96%, Validation Accuracy: 81.93%\n",
      "Epoch [80/100], Training Loss: 0.3527, Validation Loss: 0.5582, Training Accuracy: 87.19%, Validation Accuracy: 83.48%\n",
      "Epoch [81/100], Training Loss: 0.3394, Validation Loss: 0.5592, Training Accuracy: 87.32%, Validation Accuracy: 83.16%\n",
      "Epoch [82/100], Training Loss: 0.3502, Validation Loss: 0.5707, Training Accuracy: 87.13%, Validation Accuracy: 82.70%\n",
      "Epoch [83/100], Training Loss: 0.3556, Validation Loss: 0.6244, Training Accuracy: 87.12%, Validation Accuracy: 82.05%\n",
      "Epoch [84/100], Training Loss: 0.3587, Validation Loss: 0.5217, Training Accuracy: 87.03%, Validation Accuracy: 84.03%\n",
      "Epoch [85/100], Training Loss: 0.3550, Validation Loss: 0.6003, Training Accuracy: 87.26%, Validation Accuracy: 83.54%\n",
      "Epoch [86/100], Training Loss: 0.3471, Validation Loss: 0.5969, Training Accuracy: 87.42%, Validation Accuracy: 82.93%\n",
      "Epoch [87/100], Training Loss: 0.3349, Validation Loss: 0.5623, Training Accuracy: 87.59%, Validation Accuracy: 83.12%\n",
      "Epoch [88/100], Training Loss: 0.3285, Validation Loss: 0.6139, Training Accuracy: 87.71%, Validation Accuracy: 83.02%\n",
      "Epoch [89/100], Training Loss: 0.3379, Validation Loss: 0.5701, Training Accuracy: 87.58%, Validation Accuracy: 83.15%\n",
      "Epoch [90/100], Training Loss: 0.3363, Validation Loss: 0.6406, Training Accuracy: 87.60%, Validation Accuracy: 80.79%\n",
      "Epoch [91/100], Training Loss: 0.3420, Validation Loss: 0.6166, Training Accuracy: 87.44%, Validation Accuracy: 82.97%\n",
      "Epoch [92/100], Training Loss: 0.3417, Validation Loss: 0.5677, Training Accuracy: 87.58%, Validation Accuracy: 84.37%\n",
      "Epoch [93/100], Training Loss: 0.3265, Validation Loss: 0.5415, Training Accuracy: 87.70%, Validation Accuracy: 84.39%\n",
      "Epoch [94/100], Training Loss: 0.3250, Validation Loss: 0.6564, Training Accuracy: 87.86%, Validation Accuracy: 83.34%\n",
      "Epoch [95/100], Training Loss: 0.3804, Validation Loss: 0.5834, Training Accuracy: 87.54%, Validation Accuracy: 82.66%\n",
      "Epoch [96/100], Training Loss: 0.3270, Validation Loss: 0.5613, Training Accuracy: 87.98%, Validation Accuracy: 83.94%\n",
      "Epoch [97/100], Training Loss: 0.3283, Validation Loss: 0.5483, Training Accuracy: 87.92%, Validation Accuracy: 84.00%\n",
      "Epoch [98/100], Training Loss: 0.3256, Validation Loss: 0.5837, Training Accuracy: 87.96%, Validation Accuracy: 83.72%\n",
      "Epoch [99/100], Training Loss: 0.3227, Validation Loss: 0.5743, Training Accuracy: 88.17%, Validation Accuracy: 83.99%\n",
      "Epoch [100/100], Training Loss: 0.3230, Validation Loss: 0.5882, Training Accuracy: 88.23%, Validation Accuracy: 83.99%\n"
     ]
    }
   ],
   "source": [
    "train_losses = []  # List to store training losses\n",
    "val_losses = []    # List to store validation losses\n",
    "train_accuracies = []  # List to store training accuracies\n",
    "val_accuracies = []    # List to store validation accuracies\n",
    "\n",
    "# Training loop\n",
    "for epoch in range(num_epochs):\n",
    "    model.train()\n",
    "    running_loss = 0.0\n",
    "    correct_train = 0\n",
    "    total_train = 0\n",
    "    for inputs, labels in train_loader:\n",
    "        inputs, labels = inputs.to(device), labels.to(device)  # Move inputs and labels to the GPU\n",
    "        optimizer.zero_grad()\n",
    "        outputs = model(inputs)\n",
    "        loss = criterion(outputs, labels)\n",
    "        loss.backward()\n",
    "        optimizer.step()\n",
    "        running_loss += loss.item() * inputs.size(0)\n",
    "        \n",
    "        _, predicted = torch.max(outputs, 1)\n",
    "        total_train += labels.size(0)\n",
    "        correct_train += (predicted == labels).sum().item()\n",
    "        \n",
    "    epoch_loss = running_loss / len(train_loader.dataset)\n",
    "    train_losses.append(epoch_loss)  # Record training loss for this epoch\n",
    "    train_accuracy = correct_train / total_train\n",
    "    train_accuracies.append(train_accuracy)  # Record training accuracy for this epoch\n",
    "    \n",
    "    # Compute validation loss and accuracy\n",
    "    model.eval()  # Set model to evaluation mode\n",
    "    val_loss = 0.0\n",
    "    correct_val = 0\n",
    "    total_val = 0\n",
    "    with torch.no_grad():\n",
    "        for inputs, labels in val_loader:\n",
    "            inputs, labels = inputs.to(device), labels.to(device)  # Move inputs and labels to the GPU\n",
    "            outputs = model(inputs)\n",
    "            loss = criterion(outputs, labels)\n",
    "            val_loss += loss.item() * inputs.size(0)\n",
    "            \n",
    "            _, predicted = torch.max(outputs, 1)\n",
    "            total_val += labels.size(0)\n",
    "            correct_val += (predicted == labels).sum().item()\n",
    "    \n",
    "    epoch_val_loss = val_loss / len(val_loader.dataset)\n",
    "    val_losses.append(epoch_val_loss)  # Record validation loss for this epoch\n",
    "    val_accuracy = correct_val / total_val\n",
    "    val_accuracies.append(val_accuracy)  # Record validation accuracy for this epoch\n",
    "    \n",
    "    print(f\"Epoch [{epoch + 1}/{num_epochs}], Training Loss: {epoch_loss:.4f}, Validation Loss: {epoch_val_loss:.4f}, Training Accuracy: {train_accuracy:.2%}, Validation Accuracy: {val_accuracy:.2%}\")\n"
   ]
  },
  {
   "cell_type": "markdown",
   "metadata": {},
   "source": [
    "The following two cells evaluate the model's accuracy on both the training and validation data. First, they set the model to evaluation mode and iterate through the respective data loaders. Within each iteration, the model predicts the output labels based on the input data. Then, it compares these predictions to the actual labels to determine the number of correct predictions. Finally, it computes the percentage of correct predictions over the total number of samples in each dataset and prints out the accuracy on both the training and validation sets as percentages."
   ]
  },
  {
   "cell_type": "code",
   "execution_count": 70,
   "metadata": {},
   "outputs": [
    {
     "name": "stdout",
     "output_type": "stream",
     "text": [
      "Accuracy on training set: 89.44%\n"
     ]
    }
   ],
   "source": [
    "# Evaluation on training data\n",
    "model.eval()\n",
    "with torch.no_grad():\n",
    "    correct_train = 0\n",
    "    total_train = 0\n",
    "    for inputs, labels in train_loader:\n",
    "        outputs = model(inputs)\n",
    "        _, predicted = torch.max(outputs.data, 1)\n",
    "        total_train += labels.size(0)\n",
    "        correct_train += (predicted == labels).sum().item()\n",
    "\n",
    "print(f\"Accuracy on training set: {(100 * correct_train / total_train):.2f}%\")"
   ]
  },
  {
   "cell_type": "code",
   "execution_count": 71,
   "metadata": {
    "pycharm": {
     "name": "#%%\n"
    }
   },
   "outputs": [
    {
     "name": "stdout",
     "output_type": "stream",
     "text": [
      "Accuracy on validation set: 83.99%\n"
     ]
    }
   ],
   "source": [
    "# Evaluation on validation data\n",
    "model.eval()\n",
    "with torch.no_grad():\n",
    "    correct = 0\n",
    "    total = 0\n",
    "    for inputs, labels in val_loader:\n",
    "        outputs = model(inputs)\n",
    "        _, predicted = torch.max(outputs.data, 1)\n",
    "        total += labels.size(0)\n",
    "        correct += (predicted == labels).sum().item()\n",
    "\n",
    "print(f\"Accuracy on validation set: {(100 * correct / total):.2f}%\")"
   ]
  },
  {
   "cell_type": "markdown",
   "metadata": {
    "pycharm": {
     "name": "#%% md\n"
    }
   },
   "source": [
    "Here is a brief summary of the accuracy and explanations i done:\n",
    "\n",
    "Preprocessing steps:\n",
    "\n",
    "Scenario: All Preprocessing Steps:\n",
    "\n",
    "Accuracy on training set: 83.80%\n",
    "Accuracy on validation set: 79.45%\n",
    "\n",
    "Explanation: This scenario involves performing all preprocessing steps, including multiplying Type 2 measurements by 9.8, stretching the z-axis values distribution in Type 2 files, and shifting the z-axis values in Type 1 files. While these preprocessing steps aim to enhance the quality and alignment of the data, the resulting accuracies suggest that the combined effect may not be as beneficial as expected. It's possible that certain preprocessing steps introduce noise or distortions that hinder the model's ability to generalize.\n",
    "\n",
    "Scenario: Steps multiplying and shifting Only:\n",
    "\n",
    "Accuracy on training set: 86.33%\n",
    "Accuracy on validation set: 82.92%\n",
    "\n",
    "Explanation: In this scenario, only the preprocessing steps of multiplying Type 2 measurements by 9.8 and shifting the z-axis values in Type 1 files are performed. This combination leads to a notable improvement in model performance compared to Scenario 1. The absence of stretching the z-axis values distribution in Type 2 files suggests that this particular normalization step may not be as crucial for improving classification accuracy.\n",
    "\n",
    "Scenario: Step multiplying Only:\n",
    "\n",
    "Accuracy on training set: 89.44%%\n",
    "Accuracy on validation set: 83.99%%\n",
    "\n",
    "Explanation: This scenario involves only multiplying Type 2 measurements by 9.8 as the preprocessing step. Surprisingly, this single preprocessing step results in the highest accuracies among all scenarios. It indicates that increasing the magnitude of Type 2 measurements plays a significant role in improving the model's ability to discriminate between different classes.\n",
    "\n",
    "Scenario: No Preprocessing:\n",
    "\n",
    "Accuracy on training set: 88.93%\n",
    "Accuracy on validation set: 85.35%\n",
    "\n",
    "Explanation: In this scenario, no preprocessing steps are applied to the data. Despite the absence of any normalization or alignment adjustments, the model still achieves relatively high accuracies. This suggests that the raw data may contain sufficiently informative features for classification, and additional preprocessing steps may not be necessary in this particular context."
   ]
  },
  {
   "cell_type": "markdown",
   "metadata": {},
   "source": [
    "The following plots illustrate the training and validation loss curves, as well as the training and validation accuracy curves over the epochs."
   ]
  },
  {
   "cell_type": "code",
   "execution_count": 72,
   "metadata": {},
   "outputs": [
    {
     "data": {
      "image/png": "[encoded data removed]",
      "text/plain": [
       "<Figure size 640x480 with 1 Axes>"
      ]
     },
     "metadata": {},
     "output_type": "display_data"
    }
   ],
   "source": [
    "# Plotting the loss curves\n",
    "plt.plot(range(1, num_epochs + 1), train_losses, label='Training Loss')\n",
    "plt.plot(range(1, num_epochs + 1), val_losses, label='Validation Loss')\n",
    "plt.title('Training and Validation Loss Curves')\n",
    "plt.xlabel('Epoch')\n",
    "plt.ylabel('Loss')\n",
    "plt.legend()\n",
    "plt.show()"
   ]
  },
  {
   "cell_type": "code",
   "execution_count": 73,
   "metadata": {},
   "outputs": [
    {
     "data": {
      "image/png": "[encoded data removed]",
      "text/plain": [
       "<Figure size 640x480 with 1 Axes>"
      ]
     },
     "metadata": {},
     "output_type": "display_data"
    }
   ],
   "source": [
    "# Plot Training and Validation Accuracy Curves\n",
    "plt.plot(range(1, num_epochs + 1), train_accuracies, label='Training Accuracy')\n",
    "plt.plot(range(1, num_epochs + 1), val_accuracies, label='Validation Accuracy')\n",
    "plt.title('Training and Validation Accuracy Curves')\n",
    "plt.xlabel('Epoch')\n",
    "plt.ylabel('Accuracy')\n",
    "plt.legend()\n",
    "plt.show()"
   ]
  },
  {
   "cell_type": "markdown",
   "metadata": {},
   "source": [
    "This function visualizes predictions made by the model on a given data loader, categorizing them into examples with high probability predictions and uncertain predictions based on a specified threshold. It prints a specified number of examples for each category, showing the predicted activity, true activity, and maximum probability. If the model's confidence is above the threshold, it's categorized as a high probability prediction, otherwise, it's considered uncertain. It ensures that it prints an equal number of examples for each category."
   ]
  },
  {
   "cell_type": "code",
   "execution_count": 74,
   "metadata": {},
   "outputs": [
    {
     "name": "stdout",
     "output_type": "stream",
     "text": [
      "Example 1 - High Probability Prediction:\n",
      "Predicted Activity: stairs_up, True Activity: stairs_up\n",
      "Max Probability: 1.00\n",
      "\n",
      "Example 1 - Uncertain Prediction:\n",
      "Predicted Activity: stairs_down, True Activity: stairs_up\n",
      "Max Probability: 0.66\n",
      "\n",
      "Example 2 - Uncertain Prediction:\n",
      "Predicted Activity: walking_with_handbag, True Activity: stairs_up\n",
      "Max Probability: 0.80\n",
      "\n",
      "Example 2 - High Probability Prediction:\n",
      "Predicted Activity: walking_with_hands_in_pockets, True Activity: walking_with_hands_in_pockets\n",
      "Max Probability: 1.00\n",
      "\n",
      "Example 3 - High Probability Prediction:\n",
      "Predicted Activity: walking_with_object_underarm, True Activity: walking_with_hands_in_pockets\n",
      "Max Probability: 0.92\n",
      "\n",
      "Example 3 - Uncertain Prediction:\n",
      "Predicted Activity: washing_plate, True Activity: walking_with_hands_in_pockets\n",
      "Max Probability: 0.37\n",
      "\n",
      "Example 4 - Uncertain Prediction:\n",
      "Predicted Activity: washing_face_and_hands, True Activity: walking_with_hands_in_pockets\n",
      "Max Probability: 0.32\n",
      "\n",
      "Example 5 - Uncertain Prediction:\n",
      "Predicted Activity: preparing_sandwich, True Activity: walking_with_hands_in_pockets\n",
      "Max Probability: 0.53\n",
      "\n",
      "Example 4 - High Probability Prediction:\n",
      "Predicted Activity: walking_freely, True Activity: walking_freely\n",
      "Max Probability: 1.00\n",
      "\n",
      "Example 5 - High Probability Prediction:\n",
      "Predicted Activity: using_phone, True Activity: walking_freely\n",
      "Max Probability: 0.94\n",
      "\n"
     ]
    }
   ],
   "source": [
    "def visualize_predictions(model, dataloader, label_encoder, threshold=0.9, num_examples=6):\n",
    "    # Set model to evaluation mode\n",
    "    model.eval()\n",
    "\n",
    "    # Initialize counters for examples with high probability and uncertain predictions\n",
    "    high_prob_count = 0\n",
    "    uncertain_count = 0\n",
    "\n",
    "    # Keep track of encountered activities\n",
    "    encountered_activities = set()\n",
    "\n",
    "    # Iterate over the data loader\n",
    "    for inputs, labels in dataloader:\n",
    "        # Forward pass\n",
    "        outputs = model(inputs)\n",
    "\n",
    "        # Apply softmax to get probabilities\n",
    "        probabilities = F.softmax(outputs, dim=1)\n",
    "\n",
    "        # Get predicted labels\n",
    "        predicted_labels = torch.argmax(probabilities, dim=1)\n",
    "\n",
    "        # Iterate over each example\n",
    "        for i in range(len(inputs)):\n",
    "            # Convert predicted and true labels to activity names\n",
    "            predicted_activity = label_encoder.inverse_transform([predicted_labels[i].item()])[0]\n",
    "            true_activity = label_encoder.inverse_transform([labels[i].item()])[0]\n",
    "\n",
    "            # Get the maximum probability\n",
    "            max_prob = torch.max(probabilities[i]).item()\n",
    "\n",
    "            # Check if the model's confidence is above or below the threshold\n",
    "            if max_prob >= threshold and high_prob_count < num_examples // 2:\n",
    "                # Check if the activity has already been encountered\n",
    "                if predicted_activity not in encountered_activities:\n",
    "                    print(f\"Example {high_prob_count + 1} - High Probability Prediction:\")\n",
    "                    print(f\"Predicted Activity: {predicted_activity}, True Activity: {true_activity}\")\n",
    "                    print(f\"Max Probability: {max_prob:.2f}\\n\")\n",
    "                    high_prob_count += 1\n",
    "                    encountered_activities.add(predicted_activity)\n",
    "\n",
    "            elif max_prob < threshold and uncertain_count < num_examples // 2:\n",
    "                # Check if the activity has already been encountered\n",
    "                if predicted_activity not in encountered_activities:\n",
    "                    print(f\"Example {uncertain_count + 1} - Uncertain Prediction:\")\n",
    "                    print(f\"Predicted Activity: {predicted_activity}, True Activity: {true_activity}\")\n",
    "                    print(f\"Max Probability: {max_prob:.2f}\\n\")\n",
    "                    uncertain_count += 1\n",
    "                    encountered_activities.add(predicted_activity)\n",
    "\n",
    "            # Check if we've printed enough examples\n",
    "            if high_prob_count >= num_examples // 2 and uncertain_count >= num_examples // 2:\n",
    "                return\n",
    "\n",
    "# Example usage\n",
    "visualize_predictions(model, val_loader, label_encoder, threshold=0.9, num_examples=10)\n"
   ]
  },
  {
   "cell_type": "markdown",
   "metadata": {},
   "source": [
    "In the series of examples provided, each prediction outcome showcases the varying levels of certainty exhibited by the model in identifying specific activities. Instances labeled as \"high probability predictions\" indicate the model's strong confidence, correctly aligning with the true activity labels and often displaying maximum probabilities. Conversely, \"uncertain predictions\" reveal instances where the model's confidence wavers, resulting in incorrect predictions or lower probabilities, suggesting ambiguity in the data or model's understanding. These examples underscore the importance of scrutinizing prediction confidence, as it offers valuable insights into the model's reliability and performance across different activity recognition tasks, aiding in the refinement and optimization of machine learning algorithms for improved accuracy and robustness."
   ]
  },
  {
   "cell_type": "markdown",
   "metadata": {},
   "source": [
    "This code calculates and prints other relevant metrics including precision, recall, and F1-score using `sklearn.metrics.classification_report`. It first makes predictions on the training and validation data using the trained model. Then, it converts the predicted labels and true labels from tensors to numpy arrays. Finally, it prints the classification reports for both the training and validation data, specifying the target names using the `activity_mapping` dictionary keys."
   ]
  },
  {
   "cell_type": "code",
   "execution_count": 75,
   "metadata": {},
   "outputs": [
    {
     "name": "stdout",
     "output_type": "stream",
     "text": [
      "Classification Report for Training Data:\n",
      "                               precision    recall  f1-score   support\n",
      "\n",
      "               brushing_teeth       0.94      0.97      0.96      1147\n",
      "                         idle       0.94      0.91      0.92      2139\n",
      "           preparing_sandwich       0.89      0.96      0.92      1792\n",
      "                 reading_book       0.97      0.91      0.94      2005\n",
      "                  stairs_down       0.98      1.00      0.99       924\n",
      "                    stairs_up       1.00      0.99      0.99      1004\n",
      "                       typing       0.94      0.98      0.96       959\n",
      "                  using_phone       0.94      0.90      0.92      3450\n",
      "         using_remote_control       0.90      0.97      0.94      2041\n",
      "               walking_freely       0.89      0.81      0.85      3661\n",
      "       walking_holding_a_tray       0.90      0.90      0.90      3552\n",
      "         walking_with_handbag       0.78      0.87      0.83      3607\n",
      "walking_with_hands_in_pockets       0.88      0.88      0.88      3394\n",
      " walking_with_object_underarm       0.85      0.85      0.85      3529\n",
      "       washing_face_and_hands       0.83      0.95      0.88      1991\n",
      "                  washing_mug       0.87      0.81      0.84      2002\n",
      "                washing_plate       0.94      0.81      0.87      2001\n",
      "                      writing       0.96      0.96      0.96       986\n",
      "\n",
      "                     accuracy                           0.89     40184\n",
      "                    macro avg       0.91      0.91      0.91     40184\n",
      "                 weighted avg       0.90      0.89      0.89     40184\n",
      "\n",
      "Classification Report for Validation Data:\n",
      "                               precision    recall  f1-score   support\n",
      "\n",
      "               brushing_teeth       0.86      0.90      0.88       288\n",
      "                         idle       0.86      0.86      0.86       536\n",
      "           preparing_sandwich       0.82      0.90      0.86       450\n",
      "                 reading_book       0.92      0.83      0.87       503\n",
      "                  stairs_down       0.97      1.00      0.99       231\n",
      "                    stairs_up       1.00      0.97      0.98       252\n",
      "                       typing       0.85      0.91      0.88       240\n",
      "                  using_phone       0.90      0.87      0.88       863\n",
      "         using_remote_control       0.82      0.87      0.85       511\n",
      "               walking_freely       0.85      0.75      0.79       917\n",
      "       walking_holding_a_tray       0.87      0.87      0.87       889\n",
      "         walking_with_handbag       0.73      0.85      0.78       903\n",
      "walking_with_hands_in_pockets       0.83      0.83      0.83       849\n",
      " walking_with_object_underarm       0.84      0.81      0.82       883\n",
      "       washing_face_and_hands       0.73      0.88      0.80       499\n",
      "                  washing_mug       0.80      0.70      0.75       502\n",
      "                washing_plate       0.86      0.73      0.79       501\n",
      "                      writing       0.91      0.90      0.90       247\n",
      "\n",
      "                     accuracy                           0.84     10064\n",
      "                    macro avg       0.86      0.86      0.85     10064\n",
      "                 weighted avg       0.84      0.84      0.84     10064\n",
      "\n"
     ]
    }
   ],
   "source": [
    "# Calculate and print other relevant metrics (precision, recall, F1-score) using sklearn.metrics\n",
    "from sklearn.metrics import classification_report\n",
    "\n",
    "# Predictions on training data\n",
    "train_predicted = model(X_train_tensor)\n",
    "train_predicted_labels = torch.argmax(train_predicted, axis=1).cpu().numpy()\n",
    "train_true_labels = torch.tensor(y_train_encoded).cpu().numpy()\n",
    "\n",
    "# Predictions on validation data\n",
    "val_predicted = model(X_val_tensor)\n",
    "val_predicted_labels = torch.argmax(val_predicted, axis=1).cpu().numpy()\n",
    "val_true_labels = torch.tensor(y_val_encoded).cpu().numpy()\n",
    "\n",
    "# Classification report for training data\n",
    "print(\"Classification Report for Training Data:\")\n",
    "print(classification_report(train_true_labels, train_predicted_labels, target_names=activity_mapping.keys()))\n",
    "\n",
    "# Classification report for validation data\n",
    "print(\"Classification Report for Validation Data:\")\n",
    "print(classification_report(val_true_labels, val_predicted_labels, target_names=activity_mapping.keys()))\n"
   ]
  },
  {
   "cell_type": "markdown",
   "metadata": {
    "pycharm": {
     "name": "#%% md\n"
    }
   },
   "source": [
    "TEST"
   ]
  },
  {
   "cell_type": "markdown",
   "metadata": {},
   "source": [
    "This code snippet extracts features from the test data using the `extract_features_from_accelerometer_data` function, creates a DataLoader for the test data, predicts labels for the test data using the trained model, and saves the predicted probabilities for each activity to a CSV file. It iterates over batches of test data, makes predictions using the model, and then converts the predicted labels to a list. After that, it creates a DataFrame (`df_results`) to store the activity probabilities, with sample IDs as the index. Finally, it sorts the rows of the DataFrame by ID and saves it to a CSV file."
   ]
  },
  {
   "cell_type": "code",
   "execution_count": null,
   "metadata": {},
   "outputs": [],
   "source": [
    "# Extract features from test data\n",
    "test_features = {}\n",
    "for id_, data_info in unlabeled_data.items():\n",
    "    inputs = data_info['dataframe']\n",
    "    features = extract_features_from_accelerometer_data(inputs)\n",
    "    test_features[id_] = features\n",
    "\n",
    "\n",
    "# Create DataLoader for the test data\n",
    "X_test_tensors = torch.tensor(list(test_features.values()), dtype=torch.float32).to(device)\n",
    "test_data = TensorDataset(X_test_tensors)\n",
    "test_loader = DataLoader(test_data, batch_size=batch_size)"
   ]
  },
  {
   "cell_type": "code",
   "execution_count": null,
   "metadata": {},
   "outputs": [],
   "source": [
    "# Predict labels for test data\n",
    "model.eval()\n",
    "predictions = []\n",
    "with torch.no_grad():\n",
    "    for inputs in test_loader:\n",
    "        inputs = inputs[0].to(device)\n",
    "        outputs = model(inputs)\n",
    "        _, predicted = torch.max(outputs, 1)\n",
    "        predictions.extend(predicted.tolist())\n",
    "\n",
    "# Create DataFrame with activity probabilities\n",
    "activities = label_encoder.classes_\n",
    "activity_probs = model(X_test_tensors).softmax(dim=1).tolist()\n",
    "df_results = pd.DataFrame(activity_probs, index=test_features.keys(), columns=activities)\n",
    "df_results.index.name = 'sample_id'\n",
    "\n",
    "# Sort rows by DataFrame ID\n",
    "df_results.sort_index(inplace=True)\n",
    "\n",
    "# Save DataFrame to CSV file\n",
    "df_results.to_csv('/home/janz/model/predictions_cnn.csv')"
   ]
  },
  {
   "cell_type": "markdown",
   "metadata": {
    "pycharm": {
     "name": "#%% md\n"
    }
   },
   "source": [
    "**LSTM**"
   ]
  },
  {
   "cell_type": "markdown",
   "metadata": {},
   "source": [
    "Yaaay, the main reason why we have assignment number 2.\n",
    "\n",
    "Whirring, time-traveling, deep thought factories, nostalgia engines, brainy time capsules, memory foam for machines, thinking machines with a time machine twist. (lstm is powerfull and exciting)\n",
    "\n",
    "Let's start with data preperation."
   ]
  },
  {
   "cell_type": "markdown",
   "metadata": {},
   "source": [
    "This code segment prepares the training and validation sets for an LSTM model. It iterates over the samples in the training and validation sets, extracts the accelerometer data (assuming it's stored as a DataFrame), and appends it to `X_train_lstm` and `X_val_lstm` respectively. It also extracts the activity labels and encodes them using `LabelEncoder`. The encoded labels are stored in `encoded_y_train_lstm` and `encoded_y_val_lstm`. Finally, it creates a mapping between activity names and their encoded numerical values."
   ]
  },
  {
   "cell_type": "code",
   "execution_count": null,
   "metadata": {},
   "outputs": [],
   "source": [
    "X_train_lstm = []\n",
    "y_train_lstm = []\n",
    "for sample in train_set:\n",
    "    X_train_lstm.append(sample['dataframe'])\n",
    "    y_train_lstm.append(sample['activity'])\n",
    "\n",
    "X_val_lstm = []\n",
    "y_val_lstm = []\n",
    "for sample in val_set:\n",
    "    X_val_lstm.append(sample['dataframe'])\n",
    "    y_val_lstm.append(sample['activity'])\n",
    "\n",
    "# Convert DataFrame to numpy array\n",
    "X_train_lstm = [sample['dataframe'].values for sample in train_set]\n",
    "X_val_lstm = [sample['dataframe'].values for sample in val_set]\n",
    "\n",
    "# Encoding activity labels\n",
    "label_encoder = LabelEncoder()\n",
    "label_encoder.fit(y_train_lstm)\n",
    "encoded_y_train_lstm = label_encoder.transform(y_train_lstm)\n",
    "encoded_y_val_lstm = label_encoder.transform(y_val_lstm)\n",
    "\n",
    "# Get the mapping between activity names and encoded numerical values\n",
    "activity_mapping = dict(zip(label_encoder.classes_, label_encoder.transform(label_encoder.classes_)))"
   ]
  },
  {
   "cell_type": "code",
   "execution_count": null,
   "metadata": {},
   "outputs": [],
   "source": [
    "# import torch\n",
    "# import torch.nn as nn\n",
    "# import torch.optim as optim\n",
    "# from torch.utils.data import Dataset, DataLoader\n",
    "# from sklearn.preprocessing import LabelEncoder\n",
    "# from sklearn.model_selection import train_test_split\n",
    "\n",
    "# Check if GPU is available\n",
    "device = torch.device(\"cuda\" if torch.cuda.is_available() else \"cpu\")\n",
    "\n",
    "seed = 42\n",
    "torch.manual_seed(seed)\n",
    "np.random.seed(seed)\n",
    "random.seed(seed)"
   ]
  },
  {
   "cell_type": "markdown",
   "metadata": {},
   "source": [
    "The choice of hyperparameters in this LSTM model is strategic and tailored to the characteristics of the dataset and the desired model complexity. The input size, set to 3, reflects the number of features in each input sequence (x, y, z). A hidden size of 32 units strikes a balance between model capacity and computational efficiency, allowing the LSTM to capture intricate patterns without excessive computational cost. Stacking 2 LSTM layers, specified by num_layers, enhances the model's ability to learn hierarchical representations of the data. The number of classes, obtained from the label encoder, determines the output size of the final fully connected layer, facilitating classification. A learning rate of 0.001 ensures smooth gradient descent optimization, while training over 100 epochs enables the model to sufficiently learn from the data. With a batch size of 256, the model processes a moderate number of examples in each iteration, balancing memory efficiency and gradient stability. The LSTMModel class encapsulates these hyperparameters, initializing an LSTM model with the specified configuration. In the forward method, input data undergoes LSTM processing, and the final hidden state is extracted for classification through a fully connected layer, yielding output logits. This holistic approach to hyperparameter selection and model architecture aims to optimize performance and generalization in the LSTM-based classification task."
   ]
  },
  {
   "cell_type": "code",
   "execution_count": 43,
   "metadata": {},
   "outputs": [],
   "source": [
    "# Hyperparameters\n",
    "input_size = 3\n",
    "hidden_size = 32\n",
    "num_layers = 2\n",
    "num_classes = len(label_encoder.classes_)\n",
    "learning_rate = 0.001\n",
    "num_epochs = 100\n",
    "batch_size = 256\n",
    "\n",
    "# Define the LSTM model\n",
    "# class LSTMModel(nn.Module):\n",
    "#     def __init__(self, input_size, hidden_size, num_layers, num_classes):\n",
    "#         super(LSTMModel, self).__init__()\n",
    "#         self.hidden_size = hidden_size\n",
    "#         self.num_layers = num_layers\n",
    "#         self.lstm = nn.LSTM(input_size, hidden_size, num_layers, batch_first=True)\n",
    "\n",
    "#         # self.fc = nn.Linear(hidden_size, num_classes)\n",
    "#         self.fc1 = nn.Linear(hidden_size, 64)\n",
    "#         self.fc2 = nn.Linear(64, num_classes)\n",
    "\n",
    "#     def forward(self, x):\n",
    "#         h0 = torch.zeros(self.num_layers, x.size(0), self.hidden_size).to(device)\n",
    "#         c0 = torch.zeros(self.num_layers, x.size(0), self.hidden_size).to(device)\n",
    "#         out, _ = self.lstm(x, (h0, c0))\n",
    "\n",
    "#         # out = self.fc(out[:, -1, :])\n",
    "#         out = self.fc1(out[:, -1, :])\n",
    "#         out = self.fc2(out)\n",
    "#         return out\n",
    "# class LSTMModel(nn.Module):\n",
    "#     def __init__(self, input_size, hidden_size, num_layers, num_classes):\n",
    "#         super(LSTMModel, self).__init__()\n",
    "#         self.hidden_size = hidden_size\n",
    "#         self.num_layers = num_layers\n",
    "#         self.lstm = nn.LSTM(input_size, hidden_size, num_layers, batch_first=True)\n",
    "\n",
    "#         self.fc = nn.Linear(hidden_size, num_classes)\n",
    "\n",
    "#     def forward(self, x):\n",
    "#         h0 = torch.zeros(self.num_layers, x.size(0), self.hidden_size).to(device)\n",
    "#         c0 = torch.zeros(self.num_layers, x.size(0), self.hidden_size).to(device)\n",
    "\n",
    "#         out, _ = self.lstm(x, (h0, c0))\n",
    "#         out = self.fc(out[:, -1, :])\n",
    "#         return out\n",
    "\n",
    "class LSTMModel(nn.Module):\n",
    "    def __init__(self, input_size, hidden_size, num_layers, num_classes):\n",
    "        super(LSTMModel, self).__init__()\n",
    "        self.hidden_size = hidden_size\n",
    "        self.num_layers = num_layers\n",
    "        self.lstm = nn.LSTM(input_size, hidden_size, num_layers, batch_first=True)\n",
    "\n",
    "        # self.fc = nn.Linear(hidden_size, num_classes)\n",
    "        self.fc1 = nn.Linear(hidden_size, 256)  # Increase number of neurons\n",
    "        self.fc2 = nn.Linear(256, 128)  # Add another fully connected layer\n",
    "        self.fc3 = nn.Linear(128, num_classes)\n",
    "        self.relu = nn.ReLU()\n",
    "\n",
    "        # self.relu = nn.ReLU()\n",
    "\n",
    "    def forward(self, x):\n",
    "        h0 = torch.zeros(self.num_layers, x.size(0), self.hidden_size).to(device)\n",
    "        c0 = torch.zeros(self.num_layers, x.size(0), self.hidden_size).to(device)\n",
    "        out, _ = self.lstm(x, (h0, c0))\n",
    "\n",
    "        # out = self.fc(out[:, -1, :])\n",
    "\n",
    "        out = out[:, -1, :]  # Extract the output of the last time step\n",
    "        out = self.relu(self.fc1(out))  # Apply activation\n",
    "        out = self.relu(self.fc2(out))  # Apply activation\n",
    "        out = self.fc3(out)\n",
    "        return out\n"
   ]
  },
  {
   "cell_type": "markdown",
   "metadata": {},
   "source": [
    "The code defines a custom dataset class, `SensorDataset`, for organizing input features and labels. Sequences in the dataset are padded using PyTorch's `pad_sequence` function to ensure uniform length for efficient processing. While there's an alternative padding method provided (`pad_with_original_data`), more on the two methods will be explained later in the pretrain_model notebook. Data loaders are then created for both training and validation sets using the `SensorDataset` instances, facilitating batch processing during training and validation. The shuffle argument in the training data loader ensures randomization of samples for each epoch (as always)."
   ]
  },
  {
   "cell_type": "code",
   "execution_count": 44,
   "metadata": {},
   "outputs": [],
   "source": [
    "# Define a custom dataset class\n",
    "class SensorDataset(Dataset):\n",
    "    def __init__(self, X, y):\n",
    "        self.X = X\n",
    "        self.y = y\n",
    "\n",
    "    def __len__(self):\n",
    "        return len(self.X)\n",
    "\n",
    "    def __getitem__(self, idx):\n",
    "        return torch.tensor(self.X[idx], dtype=torch.float).to(device), torch.tensor(self.y[idx]).to(device)\n",
    "\n",
    "# fixed_length = 4000\n",
    "# X_train_padded = pad_sequence([torch.tensor(seq[:fixed_length], dtype=torch.float) for seq in X_train_lstm], batch_first=True)\n",
    "# X_val_padded = pad_sequence([torch.tensor(seq[:fixed_length], dtype=torch.float) for seq in X_val_lstm], batch_first=True)\n",
    "\n",
    "def pad_with_original_data(seq, target_length, pad_position='last'):\n",
    "    \"\"\"\n",
    "    Pad the sequence with a portion of the original data to reach the target length.\n",
    "    \"\"\"\n",
    "  \n",
    "    while(len(seq) < target_length):\n",
    "        # print(len(seq))\n",
    "        original_length = len(seq)\n",
    "        padding_length = target_length - original_length\n",
    "        if pad_position == 'first':\n",
    "            padding = seq[:padding_length]  # Pad with the first portion of the sequence\n",
    "            seq += padding\n",
    "        elif pad_position == 'last':\n",
    "            padding = seq[-padding_length:]  # Pad with the last portion of the sequence\n",
    "            seq = np.concatenate((seq, padding), axis=0)\n",
    "    return torch.tensor(seq, dtype=torch.float)  # Convert sequence to tensor\n",
    "\n",
    "fixed_length = 4000\n",
    "\n",
    "# Assuming X_train_lstm and X_val_lstm are lists of sequences\n",
    "X_train_padded = pad_sequence([pad_with_original_data(seq, fixed_length, pad_position='last') for seq in X_train_lstm], batch_first=True)\n",
    "X_val_padded = pad_sequence([pad_with_original_data(seq, fixed_length, pad_position='last') for seq in X_val_lstm], batch_first=True)\n",
    "\n",
    "\n",
    "# Create DataLoader for training and validation\n",
    "train_dataset = SensorDataset(X_train_padded, encoded_y_train_lstm)\n",
    "train_loader = DataLoader(train_dataset, batch_size=batch_size, shuffle=True)\n",
    "val_dataset = SensorDataset(X_val_padded, encoded_y_val_lstm)\n",
    "val_loader = DataLoader(val_dataset, batch_size=batch_size)"
   ]
  },
  {
   "cell_type": "code",
   "execution_count": 45,
   "metadata": {},
   "outputs": [],
   "source": [
    "# Initialize the model, loss function, and optimizer\n",
    "model = LSTMModel(input_size, hidden_size, num_layers, num_classes).to(device)\n",
    "criterion = nn.CrossEntropyLoss()\n",
    "optimizer = optim.Adam(model.parameters(), lr=learning_rate)"
   ]
  },
  {
   "cell_type": "markdown",
   "metadata": {},
   "source": [
    "Now we train the model using PyTorch and monitors its performance on both training and validation datasets across multiple epochs. It iterates over each epoch, computes the loss and accuracy for each batch of data, and updates the model parameters accordingly. After each epoch, it evaluates the model on the validation dataset to assess its generalization performance. The training and validation losses, as well as the training and validation accuracies, are recorded for each epoch and can be visualized to track the training progress."
   ]
  },
  {
   "cell_type": "code",
   "execution_count": 46,
   "metadata": {},
   "outputs": [
    {
     "name": "stderr",
     "output_type": "stream",
     "text": [
      "/tmp/ipykernel_10432/2189649866.py:11: UserWarning: To copy construct from a tensor, it is recommended to use sourceTensor.clone().detach() or sourceTensor.clone().detach().requires_grad_(True), rather than torch.tensor(sourceTensor).\n",
      "  return torch.tensor(self.X[idx], dtype=torch.float).to(device), torch.tensor(self.y[idx]).to(device)\n"
     ]
    },
    {
     "name": "stdout",
     "output_type": "stream",
     "text": [
      "Epoch 1/100, Train Loss: 2.3174, Train Accuracy: 0.2012, Val Loss: 2.0314, Val Accuracy: 0.2757\n",
      "Epoch 2/100, Train Loss: 1.9990, Train Accuracy: 0.2644, Val Loss: 1.9968, Val Accuracy: 0.2763\n",
      "Epoch 3/100, Train Loss: 1.9806, Train Accuracy: 0.2719, Val Loss: 2.0040, Val Accuracy: 0.2712\n",
      "Epoch 4/100, Train Loss: 1.9676, Train Accuracy: 0.2788, Val Loss: 1.9374, Val Accuracy: 0.2919\n",
      "Epoch 5/100, Train Loss: 1.9244, Train Accuracy: 0.2899, Val Loss: 1.9026, Val Accuracy: 0.2836\n",
      "Epoch 6/100, Train Loss: 1.8966, Train Accuracy: 0.2936, Val Loss: 1.8593, Val Accuracy: 0.3052\n",
      "Epoch 7/100, Train Loss: 1.8140, Train Accuracy: 0.3216, Val Loss: 1.7782, Val Accuracy: 0.3321\n",
      "Epoch 8/100, Train Loss: 1.7691, Train Accuracy: 0.3258, Val Loss: 1.7135, Val Accuracy: 0.3409\n",
      "Epoch 9/100, Train Loss: 1.6923, Train Accuracy: 0.3440, Val Loss: 1.6531, Val Accuracy: 0.3586\n",
      "Epoch 10/100, Train Loss: 1.7098, Train Accuracy: 0.3451, Val Loss: 1.7124, Val Accuracy: 0.3447\n",
      "Epoch 11/100, Train Loss: 1.6679, Train Accuracy: 0.3538, Val Loss: 1.7142, Val Accuracy: 0.3410\n",
      "Epoch 12/100, Train Loss: 1.6256, Train Accuracy: 0.3556, Val Loss: 1.5956, Val Accuracy: 0.3724\n",
      "Epoch 13/100, Train Loss: 1.5750, Train Accuracy: 0.3783, Val Loss: 1.5483, Val Accuracy: 0.3884\n",
      "Epoch 14/100, Train Loss: 1.5201, Train Accuracy: 0.3949, Val Loss: 1.5126, Val Accuracy: 0.3961\n",
      "Epoch 15/100, Train Loss: 1.4621, Train Accuracy: 0.4178, Val Loss: 1.4531, Val Accuracy: 0.4260\n",
      "Epoch 16/100, Train Loss: 1.4358, Train Accuracy: 0.4278, Val Loss: 1.4040, Val Accuracy: 0.4421\n",
      "Epoch 17/100, Train Loss: 1.3768, Train Accuracy: 0.4519, Val Loss: 1.4130, Val Accuracy: 0.4329\n",
      "Epoch 18/100, Train Loss: 1.3340, Train Accuracy: 0.4647, Val Loss: 1.3201, Val Accuracy: 0.4686\n",
      "Epoch 19/100, Train Loss: 1.2920, Train Accuracy: 0.4809, Val Loss: 1.3054, Val Accuracy: 0.4844\n",
      "Epoch 20/100, Train Loss: 1.2777, Train Accuracy: 0.4860, Val Loss: 1.2847, Val Accuracy: 0.4829\n",
      "Epoch 21/100, Train Loss: 1.4404, Train Accuracy: 0.4440, Val Loss: 1.4880, Val Accuracy: 0.4071\n",
      "Epoch 22/100, Train Loss: 1.5070, Train Accuracy: 0.4109, Val Loss: 1.4716, Val Accuracy: 0.4278\n",
      "Epoch 23/100, Train Loss: 1.4095, Train Accuracy: 0.4478, Val Loss: 1.3950, Val Accuracy: 0.4539\n",
      "Epoch 24/100, Train Loss: 1.3449, Train Accuracy: 0.4675, Val Loss: 1.3127, Val Accuracy: 0.4752\n",
      "Epoch 25/100, Train Loss: 1.2740, Train Accuracy: 0.4953, Val Loss: 1.2646, Val Accuracy: 0.4955\n",
      "Epoch 26/100, Train Loss: 1.2359, Train Accuracy: 0.5071, Val Loss: 1.2412, Val Accuracy: 0.5155\n",
      "Epoch 27/100, Train Loss: 1.2203, Train Accuracy: 0.5177, Val Loss: 1.2282, Val Accuracy: 0.5129\n",
      "Epoch 28/100, Train Loss: 1.2228, Train Accuracy: 0.5191, Val Loss: 1.2322, Val Accuracy: 0.5126\n",
      "Epoch 29/100, Train Loss: 1.1854, Train Accuracy: 0.5297, Val Loss: 1.1807, Val Accuracy: 0.5308\n",
      "Epoch 30/100, Train Loss: 1.1437, Train Accuracy: 0.5465, Val Loss: 1.1486, Val Accuracy: 0.5552\n",
      "Epoch 31/100, Train Loss: 1.1342, Train Accuracy: 0.5486, Val Loss: 1.1731, Val Accuracy: 0.5415\n",
      "Epoch 32/100, Train Loss: 1.1095, Train Accuracy: 0.5601, Val Loss: 1.1787, Val Accuracy: 0.5285\n",
      "Epoch 33/100, Train Loss: 1.1490, Train Accuracy: 0.5404, Val Loss: 1.1370, Val Accuracy: 0.5589\n",
      "Epoch 34/100, Train Loss: 1.0910, Train Accuracy: 0.5646, Val Loss: 1.1110, Val Accuracy: 0.5606\n",
      "Epoch 35/100, Train Loss: 1.0622, Train Accuracy: 0.5788, Val Loss: 1.1020, Val Accuracy: 0.5716\n",
      "Epoch 36/100, Train Loss: 1.0510, Train Accuracy: 0.5816, Val Loss: 1.1126, Val Accuracy: 0.5603\n",
      "Epoch 37/100, Train Loss: 1.0395, Train Accuracy: 0.5860, Val Loss: 1.0478, Val Accuracy: 0.5877\n",
      "Epoch 38/100, Train Loss: 1.0130, Train Accuracy: 0.5946, Val Loss: 1.0417, Val Accuracy: 0.5937\n",
      "Epoch 39/100, Train Loss: 1.0047, Train Accuracy: 0.5992, Val Loss: 1.0515, Val Accuracy: 0.5910\n",
      "Epoch 40/100, Train Loss: 1.0330, Train Accuracy: 0.5870, Val Loss: 1.0370, Val Accuracy: 0.5926\n",
      "Epoch 41/100, Train Loss: 1.0439, Train Accuracy: 0.5832, Val Loss: 1.1186, Val Accuracy: 0.5589\n",
      "Epoch 42/100, Train Loss: 1.0214, Train Accuracy: 0.5944, Val Loss: 1.0212, Val Accuracy: 0.6053\n",
      "Epoch 43/100, Train Loss: 0.9922, Train Accuracy: 0.6024, Val Loss: 1.0060, Val Accuracy: 0.6076\n",
      "Epoch 44/100, Train Loss: 0.9546, Train Accuracy: 0.6201, Val Loss: 1.0033, Val Accuracy: 0.6043\n",
      "Epoch 45/100, Train Loss: 0.9467, Train Accuracy: 0.6193, Val Loss: 0.9710, Val Accuracy: 0.6195\n",
      "Epoch 46/100, Train Loss: 0.9440, Train Accuracy: 0.6212, Val Loss: 1.3012, Val Accuracy: 0.5005\n",
      "Epoch 47/100, Train Loss: 1.0186, Train Accuracy: 0.5970, Val Loss: 0.9947, Val Accuracy: 0.6065\n",
      "Epoch 48/100, Train Loss: 0.9413, Train Accuracy: 0.6226, Val Loss: 0.9580, Val Accuracy: 0.6224\n",
      "Epoch 49/100, Train Loss: 0.9187, Train Accuracy: 0.6360, Val Loss: 0.9546, Val Accuracy: 0.6240\n",
      "Epoch 50/100, Train Loss: 0.9011, Train Accuracy: 0.6412, Val Loss: 0.9608, Val Accuracy: 0.6206\n",
      "Epoch 51/100, Train Loss: 0.9010, Train Accuracy: 0.6401, Val Loss: 0.9229, Val Accuracy: 0.6415\n",
      "Epoch 52/100, Train Loss: 0.8814, Train Accuracy: 0.6468, Val Loss: 0.9106, Val Accuracy: 0.6360\n",
      "Epoch 53/100, Train Loss: 0.8677, Train Accuracy: 0.6513, Val Loss: 0.9193, Val Accuracy: 0.6390\n",
      "Epoch 54/100, Train Loss: 0.8674, Train Accuracy: 0.6543, Val Loss: 0.9036, Val Accuracy: 0.6466\n",
      "Epoch 55/100, Train Loss: 0.9208, Train Accuracy: 0.6387, Val Loss: 1.1103, Val Accuracy: 0.5675\n",
      "Epoch 56/100, Train Loss: 0.9234, Train Accuracy: 0.6345, Val Loss: 0.9013, Val Accuracy: 0.6455\n",
      "Epoch 57/100, Train Loss: 0.9014, Train Accuracy: 0.6432, Val Loss: 0.8842, Val Accuracy: 0.6571\n",
      "Epoch 58/100, Train Loss: 0.8386, Train Accuracy: 0.6654, Val Loss: 0.8935, Val Accuracy: 0.6532\n",
      "Epoch 59/100, Train Loss: 0.8219, Train Accuracy: 0.6734, Val Loss: 0.8417, Val Accuracy: 0.6694\n",
      "Epoch 60/100, Train Loss: 0.8099, Train Accuracy: 0.6762, Val Loss: 0.8424, Val Accuracy: 0.6712\n",
      "Epoch 61/100, Train Loss: 0.7928, Train Accuracy: 0.6843, Val Loss: 0.8351, Val Accuracy: 0.6758\n",
      "Epoch 62/100, Train Loss: 0.7789, Train Accuracy: 0.6895, Val Loss: 0.8073, Val Accuracy: 0.6872\n",
      "Epoch 63/100, Train Loss: 0.9473, Train Accuracy: 0.6391, Val Loss: 1.4573, Val Accuracy: 0.4589\n",
      "Epoch 64/100, Train Loss: 1.2196, Train Accuracy: 0.5286, Val Loss: 1.1579, Val Accuracy: 0.5433\n",
      "Epoch 65/100, Train Loss: 1.0951, Train Accuracy: 0.5719, Val Loss: 1.0875, Val Accuracy: 0.5705\n",
      "Epoch 66/100, Train Loss: 1.0454, Train Accuracy: 0.5869, Val Loss: 1.0869, Val Accuracy: 0.5767\n",
      "Epoch 67/100, Train Loss: 0.9976, Train Accuracy: 0.6044, Val Loss: 1.0088, Val Accuracy: 0.6068\n",
      "Epoch 68/100, Train Loss: 0.9918, Train Accuracy: 0.6067, Val Loss: 1.0057, Val Accuracy: 0.5934\n",
      "Epoch 69/100, Train Loss: 0.9432, Train Accuracy: 0.6245, Val Loss: 0.9738, Val Accuracy: 0.6105\n",
      "Epoch 70/100, Train Loss: 0.9163, Train Accuracy: 0.6343, Val Loss: 0.9465, Val Accuracy: 0.6223\n",
      "Epoch 71/100, Train Loss: 0.8934, Train Accuracy: 0.6436, Val Loss: 0.9232, Val Accuracy: 0.6370\n",
      "Epoch 72/100, Train Loss: 0.8790, Train Accuracy: 0.6480, Val Loss: 0.9543, Val Accuracy: 0.6183\n",
      "Epoch 73/100, Train Loss: 0.8616, Train Accuracy: 0.6532, Val Loss: 0.9000, Val Accuracy: 0.6436\n",
      "Epoch 74/100, Train Loss: 0.8375, Train Accuracy: 0.6639, Val Loss: 0.8867, Val Accuracy: 0.6506\n",
      "Epoch 75/100, Train Loss: 0.8370, Train Accuracy: 0.6659, Val Loss: 0.8699, Val Accuracy: 0.6532\n",
      "Epoch 76/100, Train Loss: 0.8258, Train Accuracy: 0.6677, Val Loss: 0.8813, Val Accuracy: 0.6528\n",
      "Epoch 77/100, Train Loss: 0.8051, Train Accuracy: 0.6792, Val Loss: 0.8520, Val Accuracy: 0.6539\n",
      "Epoch 78/100, Train Loss: 0.7925, Train Accuracy: 0.6822, Val Loss: 0.8459, Val Accuracy: 0.6655\n",
      "Epoch 79/100, Train Loss: 0.7812, Train Accuracy: 0.6887, Val Loss: 0.8528, Val Accuracy: 0.6687\n",
      "Epoch 80/100, Train Loss: 0.7687, Train Accuracy: 0.6924, Val Loss: 0.8326, Val Accuracy: 0.6747\n",
      "Epoch 81/100, Train Loss: 0.7573, Train Accuracy: 0.6964, Val Loss: 0.8310, Val Accuracy: 0.6734\n",
      "Epoch 82/100, Train Loss: 0.7544, Train Accuracy: 0.6967, Val Loss: 0.8465, Val Accuracy: 0.6606\n",
      "Epoch 83/100, Train Loss: 0.7618, Train Accuracy: 0.6940, Val Loss: 0.8140, Val Accuracy: 0.6809\n",
      "Epoch 84/100, Train Loss: 0.7435, Train Accuracy: 0.7011, Val Loss: 0.8273, Val Accuracy: 0.6783\n",
      "Epoch 85/100, Train Loss: 0.7353, Train Accuracy: 0.7057, Val Loss: 0.8137, Val Accuracy: 0.6813\n",
      "Epoch 86/100, Train Loss: 0.7239, Train Accuracy: 0.7118, Val Loss: 0.8215, Val Accuracy: 0.6828\n",
      "Epoch 87/100, Train Loss: 0.7094, Train Accuracy: 0.7165, Val Loss: 0.7996, Val Accuracy: 0.6923\n",
      "Epoch 88/100, Train Loss: 0.7049, Train Accuracy: 0.7178, Val Loss: 0.8110, Val Accuracy: 0.6834\n",
      "Epoch 89/100, Train Loss: 0.6956, Train Accuracy: 0.7225, Val Loss: 0.7846, Val Accuracy: 0.6963\n",
      "Epoch 90/100, Train Loss: 0.6870, Train Accuracy: 0.7276, Val Loss: 0.7918, Val Accuracy: 0.6902\n",
      "Epoch 91/100, Train Loss: 0.6851, Train Accuracy: 0.7260, Val Loss: 0.7960, Val Accuracy: 0.6899\n",
      "Epoch 92/100, Train Loss: 0.6757, Train Accuracy: 0.7284, Val Loss: 0.7920, Val Accuracy: 0.6976\n",
      "Epoch 93/100, Train Loss: 0.6700, Train Accuracy: 0.7334, Val Loss: 0.7602, Val Accuracy: 0.7028\n",
      "Epoch 94/100, Train Loss: 0.6576, Train Accuracy: 0.7407, Val Loss: 0.7926, Val Accuracy: 0.7002\n",
      "Epoch 95/100, Train Loss: 0.6578, Train Accuracy: 0.7376, Val Loss: 0.7545, Val Accuracy: 0.7095\n",
      "Epoch 96/100, Train Loss: 0.6412, Train Accuracy: 0.7461, Val Loss: 0.7690, Val Accuracy: 0.7061\n",
      "Epoch 97/100, Train Loss: 0.6434, Train Accuracy: 0.7438, Val Loss: 0.7824, Val Accuracy: 0.6956\n",
      "Epoch 98/100, Train Loss: 0.6536, Train Accuracy: 0.7396, Val Loss: 0.9829, Val Accuracy: 0.6450\n",
      "Epoch 99/100, Train Loss: 0.6521, Train Accuracy: 0.7394, Val Loss: 0.7534, Val Accuracy: 0.7118\n",
      "Epoch 100/100, Train Loss: 0.6847, Train Accuracy: 0.7301, Val Loss: 0.7637, Val Accuracy: 0.7047\n"
     ]
    }
   ],
   "source": [
    "train_losses = []\n",
    "val_losses = []\n",
    "train_accuracies = []\n",
    "val_accuracies = []\n",
    "\n",
    "# Training loop\n",
    "for epoch in range(num_epochs):\n",
    "    model.train()\n",
    "    train_loss = 0.0\n",
    "    correct = 0\n",
    "    total = 0\n",
    "    for inputs, labels in train_loader:\n",
    "        inputs, labels = inputs.to(device), labels.to(device)  # Move inputs and labels to the GPU\n",
    "        optimizer.zero_grad()\n",
    "        outputs = model(inputs)\n",
    "        loss = criterion(outputs, labels)\n",
    "        loss.backward()\n",
    "        optimizer.step()\n",
    "        train_loss += loss.item() * inputs.size(0)\n",
    "        _, predicted = torch.max(outputs, 1)\n",
    "        total += labels.size(0)\n",
    "        correct += (predicted == labels).sum().item()\n",
    "    train_loss /= len(train_loader.dataset)\n",
    "    train_accuracy = correct / total\n",
    "\n",
    "    train_losses.append(train_loss)\n",
    "    train_accuracies.append(train_accuracy)\n",
    "    \n",
    "    # Validation loop\n",
    "    model.eval()\n",
    "    val_loss = 0.0\n",
    "    correct = 0\n",
    "    total = 0\n",
    "    with torch.no_grad():\n",
    "        for inputs, labels in val_loader:\n",
    "            inputs, labels = inputs.to(device), labels.to(device)  # Move inputs and labels to the GPU\n",
    "            outputs = model(inputs)\n",
    "            loss = criterion(outputs, labels)\n",
    "            val_loss += loss.item() * inputs.size(0)\n",
    "            _, predicted = torch.max(outputs, 1)\n",
    "            total += labels.size(0)\n",
    "            correct += (predicted == labels).sum().item()\n",
    "    val_loss /= len(val_loader.dataset)\n",
    "    val_accuracy = correct / total\n",
    "\n",
    "    val_losses.append(val_loss)\n",
    "    val_accuracies.append(val_accuracy)\n",
    "    \n",
    "    print(f'Epoch {epoch+1}/{num_epochs}, Train Loss: {train_loss:.4f}, Train Accuracy: {train_accuracy:.4f}, Val Loss: {val_loss:.4f}, Val Accuracy: {val_accuracy:.4f}')"
   ]
  },
  {
   "cell_type": "markdown",
   "metadata": {},
   "source": [
    "The following cells are same cells as the cnn ones, we caputre the same picture of results."
   ]
  },
  {
   "cell_type": "code",
   "execution_count": 47,
   "metadata": {},
   "outputs": [
    {
     "name": "stderr",
     "output_type": "stream",
     "text": [
      "/tmp/ipykernel_10432/2189649866.py:11: UserWarning: To copy construct from a tensor, it is recommended to use sourceTensor.clone().detach() or sourceTensor.clone().detach().requires_grad_(True), rather than torch.tensor(sourceTensor).\n",
      "  return torch.tensor(self.X[idx], dtype=torch.float).to(device), torch.tensor(self.y[idx]).to(device)\n"
     ]
    },
    {
     "name": "stdout",
     "output_type": "stream",
     "text": [
      "Accuracy on training set: 74.28%\n"
     ]
    }
   ],
   "source": [
    "# Evaluation on training data\n",
    "model.eval()\n",
    "with torch.no_grad():\n",
    "    correct_train = 0\n",
    "    total_train = 0\n",
    "    for inputs, labels in train_loader:\n",
    "        outputs = model(inputs)\n",
    "        _, predicted = torch.max(outputs.data, 1)\n",
    "        total_train += labels.size(0)\n",
    "        correct_train += (predicted == labels).sum().item()\n",
    "\n",
    "print(f\"Accuracy on training set: {(100 * correct_train / total_train):.2f}%\")"
   ]
  },
  {
   "cell_type": "code",
   "execution_count": 48,
   "metadata": {},
   "outputs": [
    {
     "name": "stderr",
     "output_type": "stream",
     "text": [
      "/tmp/ipykernel_10432/2189649866.py:11: UserWarning: To copy construct from a tensor, it is recommended to use sourceTensor.clone().detach() or sourceTensor.clone().detach().requires_grad_(True), rather than torch.tensor(sourceTensor).\n",
      "  return torch.tensor(self.X[idx], dtype=torch.float).to(device), torch.tensor(self.y[idx]).to(device)\n"
     ]
    },
    {
     "name": "stdout",
     "output_type": "stream",
     "text": [
      "Accuracy on training set: 70.47%\n"
     ]
    }
   ],
   "source": [
    "# Evaluation on training data\n",
    "model.eval()\n",
    "with torch.no_grad():\n",
    "    correct_train = 0\n",
    "    total_train = 0\n",
    "    for inputs, labels in val_loader:\n",
    "        outputs = model(inputs)\n",
    "        _, predicted = torch.max(outputs.data, 1)\n",
    "        total_train += labels.size(0)\n",
    "        correct_train += (predicted == labels).sum().item()\n",
    "\n",
    "print(f\"Accuracy on training set: {(100 * correct_train / total_train):.2f}%\")"
   ]
  },
  {
   "cell_type": "code",
   "execution_count": 49,
   "metadata": {},
   "outputs": [
    {
     "data": {
      "image/png": "[encoded data removed]",
      "text/plain": [
       "<Figure size 640x480 with 1 Axes>"
      ]
     },
     "metadata": {},
     "output_type": "display_data"
    }
   ],
   "source": [
    "plt.plot(range(1, num_epochs + 1), train_losses, label='Training Loss')\n",
    "plt.plot(range(1, num_epochs + 1), val_losses, label='Validation Loss')\n",
    "plt.title('Training and Validation Loss Curves')\n",
    "plt.xlabel('Epoch')\n",
    "plt.ylabel('Loss')\n",
    "plt.legend()\n",
    "plt.show()"
   ]
  },
  {
   "cell_type": "code",
   "execution_count": 50,
   "metadata": {},
   "outputs": [
    {
     "data": {
      "image/png": "[encoded data removed]",
      "text/plain": [
       "<Figure size 640x480 with 1 Axes>"
      ]
     },
     "metadata": {},
     "output_type": "display_data"
    }
   ],
   "source": [
    "plt.plot(range(1, num_epochs + 1), train_accuracies, label='Training Accuracy')\n",
    "plt.plot(range(1, num_epochs + 1), val_accuracies, label='Validation Accuracy')\n",
    "plt.title('Training and Validation Accuracy Curves')\n",
    "plt.xlabel('Epoch')\n",
    "plt.ylabel('Accuracy')\n",
    "plt.legend()\n",
    "plt.show()"
   ]
  },
  {
   "cell_type": "code",
   "execution_count": 54,
   "metadata": {},
   "outputs": [
    {
     "name": "stdout",
     "output_type": "stream",
     "text": [
      "Example 1 - Uncertain Prediction:\n",
      "Predicted Activity: walking_holding_a_tray, True Activity: walking_with_handbag\n",
      "Max Probability: 0.35\n",
      "\n",
      "Example 1 - High Probability Prediction:\n",
      "Predicted Activity: brushing_teeth, True Activity: brushing_teeth\n",
      "Max Probability: 0.95\n",
      "\n",
      "Example 2 - High Probability Prediction:\n",
      "Predicted Activity: typing, True Activity: typing\n",
      "Max Probability: 0.92\n",
      "\n",
      "Example 2 - Uncertain Prediction:\n",
      "Predicted Activity: washing_face_and_hands, True Activity: washing_face_and_hands\n",
      "Max Probability: 0.79\n",
      "\n",
      "Example 3 - Uncertain Prediction:\n",
      "Predicted Activity: idle, True Activity: idle\n",
      "Max Probability: 0.67\n",
      "\n",
      "Example 4 - Uncertain Prediction:\n",
      "Predicted Activity: walking_with_handbag, True Activity: using_phone\n",
      "Max Probability: 0.44\n",
      "\n",
      "Example 3 - High Probability Prediction:\n",
      "Predicted Activity: washing_mug, True Activity: washing_mug\n",
      "Max Probability: 0.99\n",
      "\n",
      "Example 4 - High Probability Prediction:\n",
      "Predicted Activity: preparing_sandwich, True Activity: preparing_sandwich\n",
      "Max Probability: 0.94\n",
      "\n",
      "Example 5 - High Probability Prediction:\n",
      "Predicted Activity: walking_with_object_underarm, True Activity: walking_with_object_underarm\n",
      "Max Probability: 0.99\n",
      "\n",
      "Example 5 - Uncertain Prediction:\n",
      "Predicted Activity: reading_book, True Activity: reading_book\n",
      "Max Probability: 0.59\n",
      "\n"
     ]
    },
    {
     "name": "stderr",
     "output_type": "stream",
     "text": [
      "/tmp/ipykernel_10432/2189649866.py:11: UserWarning: To copy construct from a tensor, it is recommended to use sourceTensor.clone().detach() or sourceTensor.clone().detach().requires_grad_(True), rather than torch.tensor(sourceTensor).\n",
      "  return torch.tensor(self.X[idx], dtype=torch.float).to(device), torch.tensor(self.y[idx]).to(device)\n"
     ]
    }
   ],
   "source": [
    "visualize_predictions(model, train_loader, label_encoder, threshold=0.9, num_examples=10)"
   ]
  },
  {
   "cell_type": "markdown",
   "metadata": {},
   "source": [
    "The provided examples illustrate instances of both uncertain and high probability predictions made by the model across various activities. Uncertain predictions are characterized by lower probabilities and occasionally mismatched true activities, indicating the model's hesitancy or difficulty in accurately identifying certain activities. Conversely, high probability predictions exhibit stronger confidence, correctly aligning with the true activities and often displaying maximum probabilities. These examples highlight the importance of scrutinizing prediction confidence levels, as they offer valuable insights into the model's reliability and performance across different activity recognition tasks. By analyzing these predictions, researchers and practitioners can refine and optimize machine learning algorithms to improve accuracy and robustness in activity recognition systems."
   ]
  },
  {
   "cell_type": "code",
   "execution_count": 55,
   "metadata": {},
   "outputs": [
    {
     "name": "stderr",
     "output_type": "stream",
     "text": [
      "/tmp/ipykernel_10432/2189649866.py:11: UserWarning: To copy construct from a tensor, it is recommended to use sourceTensor.clone().detach() or sourceTensor.clone().detach().requires_grad_(True), rather than torch.tensor(sourceTensor).\n",
      "  return torch.tensor(self.X[idx], dtype=torch.float).to(device), torch.tensor(self.y[idx]).to(device)\n"
     ]
    },
    {
     "name": "stdout",
     "output_type": "stream",
     "text": [
      "Classification Report for Training Data:\n",
      "                               precision    recall  f1-score   support\n",
      "\n",
      "               brushing_teeth       0.88      0.83      0.85      1147\n",
      "                         idle       0.74      0.72      0.73      2139\n",
      "           preparing_sandwich       0.75      0.69      0.72      1792\n",
      "                 reading_book       0.81      0.80      0.81      2005\n",
      "                  stairs_down       0.99      0.99      0.99       924\n",
      "                    stairs_up       0.97      0.97      0.97      1004\n",
      "                       typing       0.73      0.84      0.78       959\n",
      "                  using_phone       0.74      0.64      0.68      3450\n",
      "         using_remote_control       0.72      0.84      0.78      2041\n",
      "               walking_freely       0.61      0.67      0.64      3661\n",
      "       walking_holding_a_tray       0.81      0.86      0.84      3552\n",
      "         walking_with_handbag       0.58      0.69      0.63      3607\n",
      "walking_with_hands_in_pockets       0.84      0.75      0.79      3394\n",
      " walking_with_object_underarm       0.74      0.63      0.68      3529\n",
      "       washing_face_and_hands       0.72      0.82      0.76      1991\n",
      "                  washing_mug       0.79      0.70      0.74      2002\n",
      "                washing_plate       0.74      0.70      0.72      2001\n",
      "                      writing       0.77      0.70      0.74       986\n",
      "\n",
      "                     accuracy                           0.74     40184\n",
      "                    macro avg       0.77      0.77      0.77     40184\n",
      "                 weighted avg       0.75      0.74      0.74     40184\n",
      "\n",
      "Classification Report for Validation Data:\n",
      "                               precision    recall  f1-score   support\n",
      "\n",
      "               brushing_teeth       0.85      0.77      0.81       288\n",
      "                         idle       0.73      0.72      0.72       536\n",
      "           preparing_sandwich       0.68      0.64      0.66       450\n",
      "                 reading_book       0.78      0.73      0.76       503\n",
      "                  stairs_down       0.96      0.98      0.97       231\n",
      "                    stairs_up       0.95      0.96      0.96       252\n",
      "                       typing       0.71      0.83      0.77       240\n",
      "                  using_phone       0.70      0.59      0.64       863\n",
      "         using_remote_control       0.70      0.81      0.75       511\n",
      "               walking_freely       0.60      0.63      0.62       917\n",
      "       walking_holding_a_tray       0.78      0.83      0.81       889\n",
      "         walking_with_handbag       0.54      0.66      0.59       903\n",
      "walking_with_hands_in_pockets       0.78      0.71      0.74       849\n",
      " walking_with_object_underarm       0.66      0.59      0.62       883\n",
      "       washing_face_and_hands       0.67      0.79      0.72       499\n",
      "                  washing_mug       0.75      0.65      0.69       502\n",
      "                washing_plate       0.68      0.63      0.66       501\n",
      "                      writing       0.76      0.64      0.69       247\n",
      "\n",
      "                     accuracy                           0.70     10064\n",
      "                    macro avg       0.74      0.73      0.73     10064\n",
      "                 weighted avg       0.71      0.70      0.70     10064\n",
      "\n"
     ]
    }
   ],
   "source": [
    "from sklearn.metrics import classification_report\n",
    "\n",
    "# Predictions on training data\n",
    "train_predicted = []\n",
    "train_true_labels = []\n",
    "model.eval()\n",
    "with torch.no_grad():\n",
    "    for inputs, labels in train_loader:\n",
    "        outputs = model(inputs)\n",
    "        train_predicted.extend(torch.argmax(outputs, axis=1).tolist())\n",
    "        train_true_labels.extend(labels.tolist())\n",
    "\n",
    "# Predictions on validation data\n",
    "val_predicted = []\n",
    "val_true_labels = []\n",
    "with torch.no_grad():\n",
    "    for inputs, labels in val_loader:\n",
    "        outputs = model(inputs)\n",
    "        val_predicted.extend(torch.argmax(outputs, axis=1).tolist())\n",
    "        val_true_labels.extend(labels.tolist())\n",
    "\n",
    "# Classification report for training data\n",
    "print(\"Classification Report for Training Data:\")\n",
    "print(classification_report(train_true_labels, train_predicted, target_names=activity_mapping.keys()))\n",
    "\n",
    "# Classification report for validation data\n",
    "print(\"Classification Report for Validation Data:\")\n",
    "print(classification_report(val_true_labels, val_predicted, target_names=activity_mapping.keys()))\n"
   ]
  },
  {
   "cell_type": "markdown",
   "metadata": {},
   "source": [
    "TEST"
   ]
  },
  {
   "cell_type": "markdown",
   "metadata": {},
   "source": [
    "This code prepares the test data for prediction using a trained model. It pads the sequences to a fixed length and creates a DataLoader to iterate through batches of the test data. The model is then used to predict probabilities for each activity class on the test data. These probabilities are organized into a DataFrame along with the sample IDs, and the results are saved to a CSV file for further analysis or evaluation."
   ]
  },
  {
   "cell_type": "code",
   "execution_count": null,
   "metadata": {},
   "outputs": [],
   "source": [
    "X_test_lstm = [unlabeled_data[key]['dataframe'].values for key in sorted(unlabeled_data.keys())]\n",
    "\n",
    "X_test_padded = pad_sequence([pad_with_original_data(seq, fixed_length, pad_position='last') for seq in X_test_lstm], batch_first=True)\n",
    "# X_test_padded = pad_sequence([torch.tensor(seq[:fixed_length], dtype=torch.float) for seq in X_test_lstm], batch_first=True)\n",
    "\n",
    "# Create DataLoader for test data\n",
    "test_dataset = SensorDataset(X_test_padded, [0] * len(X_test_padded))  # Using dummy target class\n",
    "test_loader = DataLoader(test_dataset, batch_size=batch_size)\n",
    "\n",
    "# Get predicted probabilities for test data\n",
    "model.eval()\n",
    "probabilities = []\n",
    "with torch.no_grad():\n",
    "    for inputs, _ in test_loader:\n",
    "        outputs = model(inputs)\n",
    "        probabilities.extend(torch.softmax(outputs, dim=1).cpu().numpy())\n",
    "\n",
    "# Prepare data for CSV\n",
    "sample_ids = sorted(unlabeled_data.keys())\n",
    "activity_probabilities = pd.DataFrame(probabilities, columns=label_encoder.classes_)\n",
    "\n",
    "# Combine sample IDs and probabilities\n",
    "result_df = pd.DataFrame({'sample_id': sample_ids})\n",
    "result_df = pd.concat([result_df, activity_probabilities], axis=1)\n",
    "\n",
    "# Write probabilities to CSV\n",
    "result_df.to_csv('/home/janz/model/predictions_sorted.csv', index=False)\n"
   ]
  },
  {
   "cell_type": "markdown",
   "metadata": {},
   "source": [
    "Ladies and gentlemen, this is your captain speaking. We've begun our descent into the project. However, we've been placed into a holding pattern due to air traffic congestion. We appreciate your patience as we await clearance to land, meanwhile please take a look at the notebook \"pretrain_model\" on netflix."
   ]
  }
 ],
 "metadata": {
  "kernelspec": {
   "display_name": "Python 3",
   "language": "python",
   "name": "python3"
  },
  "language_info": {
   "codemirror_mode": {
    "name": "ipython",
    "version": 3
   },
   "file_extension": ".py",
   "mimetype": "text/x-python",
   "name": "python",
   "nbconvert_exporter": "python",
   "pygments_lexer": "ipython3",
   "version": "3.10.13"
  }
 },
 "nbformat": 4,
 "nbformat_minor": 2
}
